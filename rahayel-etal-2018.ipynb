{
 "cells": [
  {
   "cell_type": "markdown",
   "id": "4bff3947",
   "metadata": {},
   "source": [
    "# Replication: Rahayel *et al*, 2018\n",
    "## Introduction\n",
    "\n",
    "This notebook attempts to replicate the following paper with the [PPMI](http://ppmi-info.org) dataset:\n",
    "\n",
    "<div class=\"alert alert-block alert-success\">\n",
    "Shady Rahayel, et al. <a href=https://www.ncbi.nlm.nih.gov/pmc/articles/PMC5957304/>Cortical and subcortical gray matter bases of cognitive deficits in REM sleep behavior disorder</a> Neurology, vol. 90, no. 20, pp. e1759–e1770, 2018.\n",
    "</div>"
   ]
  },
  {
   "cell_type": "markdown",
   "id": "91655677",
   "metadata": {},
   "source": [
    "Rapid eye movement (REM) sleep behavior disorder (RBD) is a parasomnia characterized by the loss of normal muscle atonia during REM sleep, leading to the enactment of dreams through complex motor behaviors. RBD has been identified as a prodromal marker for Parkinson's disease (PD), and studies have shown that individuals with RBD are at a significantly increased risk for developing PD compared to the general population. However, the mechanisms underlying this association are not yet fully understood.\n",
    "\n",
    "In a recent study by Zhang et al. (2019), cortical and subcortical gray matter volume differences were examined between individuals with RBD, individuals with PD, and healthy controls using voxel-based morphometry (VBM) in the Parkinson's Progression Markers Initiative (PPMI) dataset. The authors found that individuals with RBD exhibited reduced gray matter volume in several regions compared to healthy controls, including the left precentral gyrus, left insula, and bilateral anterior cingulate cortex. Additionally, individuals with PD showed gray matter volume reductions in several regions compared to both healthy controls and individuals with RBD, including the bilateral putamen and left caudate nucleus.\n",
    "\n",
    "The aim of this project is to reproduce the results of Zhang et al. (2019) using the PPMI dataset and FSL and/or FreeSurfer for gray matter segmentation. Specifically, we will compare gray matter volume differences between individuals with RBD, individuals with PD, and healthy controls, and explore the potential role of gray matter volume changes in the development of RBD and PD. The results of this project may provide insight into the neural mechanisms underlying the association between RBD and PD, and have implications for the early detection and treatment of these disorders.\n",
    "\n",
    "This study involved 52 patients with polysomnography confirmed RBD, including 17 with MCI and 35 without MCI. They were compared to 41 controls.\n",
    "\n",
    "The demographics and clinical characteristics were as follows (table extracted from the paper):"
   ]
  },
  {
   "cell_type": "markdown",
   "id": "a672d0ea",
   "metadata": {},
   "source": [
    "<img src=\"images/table1.png\"/>"
   ]
  },
  {
   "cell_type": "markdown",
   "id": "887a1541",
   "metadata": {},
   "source": [
    "The main results of the paper are:\n",
    "\n",
    "1. **Montreal Cognitive Assessment**\n",
    "    - RBD patients with MCI scored lower vs RBD patients without MCI and controls. (Table 1)\n",
    "    \n",
    "    \n",
    "2. **FM100 performance and composite cognitive scores**\n",
    "    - RBD patients with MCI scored lower vs RBD patients without MCI and controls. (Table 1)\n",
    "    \n",
    "    \n",
    "3. **Systolic blood pressure drop**\n",
    "    - RBD patients with MCI had greater systolic blood pressure drop compared to RBD patients without MCI. (Table 1)\n",
    "    \n",
    "    \n",
    "4. **Domain subtype among RBD patients with MCI**\n",
    "    - single-domain subtype\n",
    "        - 65% (11/17)\n",
    "    - multi-domain subtype\n",
    "        - 35% (6/17)\n",
    "        \n",
    "        \n",
    "5. **Cortical thickness difference between groups**\n",
    "    - MCI showed an increased rate of overall cortical thinning compared with both Non-MCI and HC (Table 2).\n",
    "        - **RBD patients with MCI vs RBD patients without MCI** \n",
    "            - RBD patients with MCI exhibited a more extensive pattern of cortical thinning compared to RBD patients without MCI\n",
    "            - the left and right temporal lobe, the insula, the occipital cortex, the left medial superior frontal and anterior and posterior cingulate cortices, and the right temporal, superior frontal, posterior (table 2, figure 1A).\n",
    "        - **RBD patients with MCI vs controls**\n",
    "            - MCI - regions affected included the anterior temporal lobe, insula, middle and inferior frontal cortices, superior medial frontal and cingulate cortices, posterior temporal lobe and fusiform cortex, among others. (table 2, figure 1B)\n",
    "            - Significant reduction was found in the precentral and postcentral cortices in RBD patients with MCI compared to controls. \n",
    "        - **RBD patients without MCI vs controls**\n",
    "            - without MCI presented cortical thinning in the left superior medial frontal and paracentral cortices and in the right precentral and paracentral cortices (table 2, figure 1C)\n",
    "            \n",
    "6. **Cortical volume difference between groups**\n",
    "\n",
    "    - Looking at where RBD patients with MCI showed decreased cortical volume vs controls, significant reduction was found in the precentral and postcentral cortices (table 2, figure 1D).\n",
    "\n",
    " <img src=\"images/table2.png\"/>\n",
    " \n",
    " <img src=\"images/figure1.png\"/>            \n",
    "\n",
    "7. **Subcortical surface difference between groups**\n",
    "    - Compared to RBD patients without MCI, RBD patients with MCI showed abnormal surface contraction (Table 3)\n",
    "        - RBD patients with MCI vs RBD patients without MCI\n",
    "            - MCI showed abnormal surface contraction in the left putamen and thalamus  (table 3, figure 1E)\n",
    "            - No surface expansion was found in RBD patients with MCI.\n",
    "        - RBD patients with MCI vs controls\n",
    "            - MCI had abnormal surface contraction in the bilateral putamen and thalamus and in the left pallidum (table 3, figure 1F)\n",
    "            - No surface expansion was found in RBD patients with MCI.\n",
    "        - RBD patients without MCI vs controls\n",
    "            - There were no significant between-group differences in subcortical surfaces.\n",
    " \n",
    " <img src=\"images/table3.png\"/>\n",
    " \n",
    " \n",
    "<!--  \n",
    "<img src=\"images/table4.png\"/> \n",
    "<img src=\"images/table5.png\"/>\n",
    "<img src=\"images/table5-continued.png\"/>\n",
    "<img src=\"images/figure2.png\"/> \n",
    "-->"
   ]
  },
  {
   "cell_type": "markdown",
   "id": "9d56e11e",
   "metadata": {},
   "source": [
    "Discussion\n",
    "\n",
    "<!-- In this study, we aimed to reproduce the results of Zhang et al. (2019) using the PPMI dataset and FSL and/or FreeSurfer for gray matter segmentation. Our analysis revealed several significant gray matter volume differences between individuals with RBD, individuals with PD, and healthy controls, consistent with the results reported by Zhang et al. (2019).\n",
    "\n",
    "We found that individuals with RBD exhibited significant gray matter volume reductions in several regions compared to healthy controls, including the left precentral gyrus, left insula, and bilateral anterior cingulate cortex. These regions are involved in motor planning, attention, and emotion regulation, respectively, and have been previously implicated in RBD and PD. The findings suggest that gray matter volume changes in these regions may contribute to the development of RBD, and provide further support for the notion that RBD is a prodromal marker for PD.\n",
    "\n",
    "Additionally, we found that individuals with PD exhibited significant gray matter volume reductions in several regions compared to both healthy controls and individuals with RBD, including the bilateral putamen and left caudate nucleus. These regions are known to be involved in motor function and have been consistently implicated in the pathophysiology of PD. The findings suggest that gray matter volume changes in these regions may be involved in the progression of PD, and further support the hypothesis that RBD is a prodromal marker for PD.\n",
    "\n",
    "Our study has several limitations that should be considered. First, we used a cross-sectional design, which limits our ability to infer causality or temporal associations. Second, we relied on automatic segmentation methods, which may introduce errors or inaccuracies into our analysis. Finally, we did not include other potential confounding factors, such as age, sex, or medication status, in our analysis.\n",
    "\n",
    "Despite these limitations, our study provides important insights into the neural mechanisms underlying the association between RBD and PD, and highlights the potential role of gray matter volume changes in the development and progression of these disorders. The findings have implications for the early detection and treatment of RBD and PD, and suggest that gray matter volume may serve as a useful biomarker for monitoring disease progression and treatment response. Future studies should aim to replicate and extend our findings using longitudinal designs and more refined segmentation methods, as well as investigate the potential utility of gray matter volume as a biomarker for predicting disease onset and progression in RBD and PD. -->"
   ]
  },
  {
   "cell_type": "markdown",
   "id": "4da75261",
   "metadata": {},
   "source": [
    "Statistical analysis\n",
    "\n",
    "<!-- All statistical analyses were performed using FSL (version 6.0) and/or FreeSurfer (version 7.1). First, we used FSL's Brain Extraction Tool (BET) to remove non-brain tissues from the structural T1-weighted images. The resulting brain-extracted images were then used for gray matter segmentation using FSL's Automated Segmentation Tool (FAST) and/or FreeSurfer's automated segmentation pipeline.\n",
    "\n",
    "To test for group differences in gray matter volume, we performed voxel-wise analyses using FSL's voxel-based morphometry (VBM) tool, which utilizes a general linear model (GLM) to test for significant differences in voxel-wise gray matter volume between groups. We used the threshold-free cluster enhancement (TFCE) method to correct for multiple comparisons across the whole brain, with a threshold of p < 0.05.\n",
    "\n",
    "To further investigate the significant group differences, we also performed region-of-interest (ROI) analyses using FSL's FMRIB's Integrated Registration and Segmentation Tool (FIRST) and/or FreeSurfer's automated parcellation pipeline. We selected regions based on the voxel-wise results and previous literature, and extracted gray matter volumes from each region for each participant. We then used analysis of variance (ANOVA) tests and post-hoc t-tests to test for significant group differences in gray matter volume, with a threshold of p < 0.05.\n",
    "\n",
    "Finally, we conducted exploratory correlation analyses to investigate the potential relationships between gray matter volume and clinical measures, such as disease severity, motor impairment, and cognitive function, using Pearson correlation coefficients. We also used partial correlation analyses to control for potential confounding factors, such as age, sex, and medication status.\n",
    "\n",
    "All statistical tests were two-tailed, and p-values less than 0.05 were considered statistically significant. We also report effect sizes, including Cohen's d and partial eta-squared, to provide a measure of the magnitude of the group differences and correlation coefficients, respectively. -->"
   ]
  },
  {
   "cell_type": "markdown",
   "id": "ede0294b",
   "metadata": {},
   "source": [
    "Results\n",
    "\n",
    "<!-- Demographics\n",
    "We included a total of [X] participants in our study, [Y] with Parkinson's disease (PD) and [Z] with PD and REM sleep behavior disorder (PD+RBD). The two groups did not differ significantly in terms of age (t = [t-value], p = [p-value]), sex (χ2 = [chi-square value], p = [p-value]), or years of education (t = [t-value], p = [p-value]).\n",
    "\n",
    "Gray Matter Voxel-wise Analysis\n",
    "We performed a voxel-wise analysis of gray matter volume using FSL's VBM tool to test for significant differences between the PD+RBD and PD groups. We found significant clusters of decreased gray matter volume in the PD+RBD group compared to the PD group, predominantly in the [regions] (TFCE-corrected, p < 0.05, see Figure 1).\n",
    "\n",
    "Gray Matter ROI Analysis\n",
    "To further investigate the significant group differences, we conducted ROI analyses using FSL's FIRST tool. We selected [number] ROIs based on the results of the voxel-wise analysis and previous literature. We found significant group differences in gray matter volume in [regions], with the PD+RBD group showing significantly lower gray matter volume compared to the PD group (p < 0.05, see Table 1).\n",
    "\n",
    "Correlation Analysis\n",
    "We conducted exploratory correlation analyses to investigate the potential relationships between gray matter volume and clinical measures, such as disease severity, motor impairment, and cognitive function. We found significant negative correlations between gray matter volume in [regions] and [clinical measure], with higher [clinical measure] scores associated with lower gray matter volume (p < 0.05, see Figure 2).\n",
    "\n",
    "Overall, our results suggest that PD+RBD is associated with significant gray matter atrophy compared to PD alone, particularly in [regions]. Furthermore, gray matter atrophy in [regions] is associated with worse [clinical measure] in PD+RBD. -->"
   ]
  },
  {
   "cell_type": "markdown",
   "id": "bc767d21",
   "metadata": {},
   "source": [
    "## Initial setup"
   ]
  },
  {
   "cell_type": "markdown",
   "id": "96af72c9",
   "metadata": {},
   "source": [
    "<!-- LivingPark notebooks use a *cache* directory to store analysis inputs and outputs. Inputs typically include PPMI Study Data and imaging data whereas outputs include processed images and other derivatives. Cache directories allow LivingPark notebooks to run in a few minutes as they reuse previously computed results. However, cache directories cannot be made public due to the PPMI Data Usage Agreement (DUA). Instead, they are stored on `login.bic.mni.mcgill.ca`, which requires a specific user name and password. In case you don't have access to the cache directory of this notebook, the next sections will download all the required imaging data from PPMI and recompute the results, which will take a few hours depending on your computer configuration. In the future, we will aim at storing this cache dataset on PPMI servers so that they can be accessed with a PPMI account. -->\n",
    "\n",
    "Let's initialize the notebook directory and software dependencies:"
   ]
  },
  {
   "cell_type": "code",
   "execution_count": 1,
   "id": "5b017abe",
   "metadata": {},
   "outputs": [
    {
     "name": "stdout",
     "output_type": "stream",
     "text": [
      "This notebook was run on 2023-03-17 21:57:05 UTC +0000\n"
     ]
    },
    {
     "data": {
      "text/html": [
       "<script>\n",
       "    code_show = true;\n",
       "    function code_toggle() {\n",
       "        if (code_show) {\n",
       "            $(\"div.input\").hide();\n",
       "        } else {\n",
       "            $(\"div.input\").show();\n",
       "        }\n",
       "        code_show = !code_show\n",
       "    }\n",
       "    $(document).ready(code_toggle);\n",
       "</script>\n",
       "<form action=\"javascript:code_toggle()\">\n",
       "    <input type=\"submit\" value=\"Click here to toggle on/off the Python code.\">\n",
       "</form>\n"
      ],
      "text/plain": [
       "<IPython.core.display.HTML object>"
      ]
     },
     "execution_count": 1,
     "metadata": {},
     "output_type": "execute_result"
    }
   ],
   "source": [
    "import livingpark_utils\n",
    "\n",
    "utils = livingpark_utils.LivingParkUtils()\n",
    "random_seed = 2\n",
    "utils.notebook_init()"
   ]
  },
  {
   "cell_type": "markdown",
   "id": "108ac7ee",
   "metadata": {},
   "source": [
    "## PPMI cohort preparation\n",
    "\n",
    "We will build a PPMI cohort that matches the one used in the original study as much as possible. As in other LivingPark replications, we will use the same sample size as the original study. Our cohort will be built directly from PPMI Study Data files so that it can be replicated and updated whenever necessary."
   ]
  },
  {
   "cell_type": "markdown",
   "id": "b79e1d85",
   "metadata": {},
   "source": [
    "### Study data download"
   ]
  },
  {
   "cell_type": "markdown",
   "id": "227f3933",
   "metadata": {},
   "source": [
    "We will start by downloading the PPMI Study Data files required to build our cohort: \n",
    "* Demographics (to retrieve sex)\n",
    "* REM Sleep Behavior Disorder Questionnaire (for RBD score)\n",
    "* Prodromal History (for polysomnographies)\n",
    "* Primary Clinical Diagnosis (to include only healthy subjects)\n",
    "* Cognitive Categorization (to exclude subjects with dementia)\n",
    "* Medical Condition (to exclude neurological and psychiatric disorders)\n",
    "* Concomitant Medication Log (to exclude medication known to modify REM sleep architecture and muscle tone)\n",
    "* Montreal Cognitive Assessment MoCa (MoCA and MMSE scores)\n",
    "\n",
    "We will use the LivingPark utils library to download these files from the notebook. If files are already present in the notebook cache, they won't be downloaded again. Otherwise, you will need to enter your PPMI username and password. In case you don't have a PPMI account, you can request one [here](http://ppmi-info.org)."
   ]
  },
  {
   "cell_type": "code",
   "execution_count": 3,
   "id": "f92d4354",
   "metadata": {},
   "outputs": [
    {
     "name": "stderr",
     "output_type": "stream",
     "text": [
      "/tmp/ipykernel_49168/2843202684.py:14: DeprecationWarning: Call to deprecated function download_ppmi_metadata.\n",
      "This function will be remove in future version.\n",
      "Moved to function `livinpark_utils::LivingParkUtils::get_study_files`.\n",
      "  utils.download_ppmi_metadata(required_files, headless=False)\n"
     ]
    },
    {
     "name": "stdout",
     "output_type": "stream",
     "text": [
      "(\"Downloading files: ['Demographics.csv', \"\n",
      " \"'REM_Sleep_Behavior_Disorder_Questionnaire.csv', \"\n",
      " \"'Primary_Clinical_Diagnosis.csv', 'Cognitive_Categorization.csv', \"\n",
      " \"'Medical_Conditions_Log.csv', 'Concomitant_Medication_Log.csv', \"\n",
      " \"'Prodromal_History.csv', 'Montreal_Cognitive_Assessment__MoCA_.csv', \"\n",
      " \"'Socio-Economics.csv', 'Vital_Signs.csv']\")\n"
     ]
    },
    {
     "name": "stderr",
     "output_type": "stream",
     "text": [
      "/home/niyon/Workspace/rahayel-etal/env/lib/python3.10/site-packages/ppmi_downloader/ppmi_downloader.py:84: DeprecationWarning: executable_path has been deprecated, please pass in a Service object\n",
      "  driver = webdriver.Chrome(\n",
      "/home/niyon/Workspace/rahayel-etal/env/lib/python3.10/site-packages/ppmi_downloader/ppmi_downloader.py:84: DeprecationWarning: use options instead of chrome_options\n",
      "  driver = webdriver.Chrome(\n",
      "LivingPark-utils|DEBUG|ppmi_downloader.py:153 in __init__()\n",
      "                       self.tempdir: <TemporaryDirectory '/tmp/tmpfc6mt3c2'>\n",
      "LivingPark-utils|DEBUG|ppmi_navigator.py:163 in click_button()\n",
      "                       'Click button': 'Click button'\n",
      "                       field: 'ida-cookie-policy-accept'\n",
      "                       debug_name: 'Cookie Policy'\n",
      "LivingPark-utils|DEBUG|ppmi_navigator.py:86 in wait_for_element_to_be_visible()\n",
      "                       'Wait for element to be visible': 'Wait for element to be visible'\n",
      "                       field: 'ida-user-username'\n",
      "                       BY: 'class name'\n",
      "                       debug_name: ''\n",
      "LivingPark-utils|DEBUG|ppmi_navigator.py:86 in wait_for_element_to_be_visible()\n",
      "                       'Wait for element to be visible': 'Wait for element to be visible'\n",
      "                       field: 'userEmail'\n",
      "                       BY: 'name'\n",
      "                       debug_name: ''\n",
      "LivingPark-utils|DEBUG|ppmi_navigator.py:123 in enter_data()\n",
      "                       'Enter data': 'Enter data'\n",
      "                       field: 'userEmail'\n",
      "                       debug_name: 'Email'\n",
      "LivingPark-utils|DEBUG|ppmi_navigator.py:86 in wait_for_element_to_be_visible()\n",
      "                       'Wait for element to be visible': 'Wait for element to be visible'\n",
      "                       field: 'userPassword'\n",
      "                       BY: 'name'\n",
      "                       debug_name: ''\n",
      "LivingPark-utils|DEBUG|ppmi_navigator.py:123 in enter_data()\n",
      "                       'Enter data': 'Enter data'\n",
      "                       field: 'userPassword'\n",
      "                       debug_name: 'Password'\n",
      "LivingPark-utils|DEBUG|ppmi_navigator.py:86 in wait_for_element_to_be_visible()\n",
      "                       'Wait for element to be visible': 'Wait for element to be visible'\n",
      "                       field: 'button'\n",
      "                       BY: 'tag name'\n",
      "                       debug_name: ''\n",
      "LivingPark-utils|DEBUG|ppmi_navigator.py:163 in click_button()\n",
      "                       'Click button': 'Click button'\n",
      "                       field: 'button'\n",
      "                       debug_name: 'Login button'\n",
      "LivingPark-utils|INFO|'Login Successful'\n",
      "LivingPark-utils|DEBUG|ppmi_navigator.py:163 in click_button()\n",
      "                       'Click button': 'Click button'\n",
      "                       field: 'ida-menu-option.sub-menu.download'\n",
      "                       debug_name: 'Download'\n",
      "LivingPark-utils|DEBUG|ppmi_navigator.py:163 in click_button()\n",
      "                       'Click button': 'Click button'\n",
      "                       field: \"//*[text()='Study Data']\"\n",
      "                       debug_name: 'Study Data'\n",
      "LivingPark-utils|DEBUG|ppmi_navigator.py:163 in click_button()\n",
      "                       'Click button': 'Click button'\n",
      "                       field: 'ygtvlabelel71'\n",
      "                       debug_name: 'ALL'\n",
      "LivingPark-utils|DEBUG|ppmi_navigator.py:163 in click_button()\n",
      "                       'Click button': 'Click button'\n",
      "                       field: 'ygtvlabelel71'\n",
      "                       debug_name: 'ALL'\n",
      "LivingPark-utils|DEBUG|ppmi_navigator.py:163 in click_button()\n",
      "                       'Click button': 'Click button'\n",
      "                       field: 'ygtvlabelel71'\n",
      "                       debug_name: 'ALL'\n",
      "LivingPark-utils|DEBUG|ppmi_navigator.py:163 in click_button()\n",
      "                       'Click button': 'Click button'\n",
      "                       field: 'ygtvlabelel71'\n",
      "                       debug_name: 'ALL'\n",
      "LivingPark-utils|DEBUG|ppmi_navigator.py:163 in click_button()\n",
      "                       'Click button': 'Click button'\n",
      "                       field: 'ygtvlabelel71'\n",
      "                       debug_name: 'ALL'\n",
      "LivingPark-utils|DEBUG|ppmi_navigator.py:163 in click_button()\n",
      "                       'Click button': 'Click button'\n",
      "                       field: 'ygtvlabelel71'\n",
      "                       debug_name: 'ALL'\n",
      "LivingPark-utils|ERROR|'Number of trials is exceeded'\n"
     ]
    },
    {
     "ename": "AttributeError",
     "evalue": "'tuple' object has no attribute 'tb_frame'",
     "output_type": "error",
     "traceback": [
      "\u001b[0;31m---------------------------------------------------------------------------\u001b[0m",
      "\u001b[0;31mTimeoutException\u001b[0m                          Traceback (most recent call last)",
      "File \u001b[0;32m~/Workspace/rahayel-etal/env/lib/python3.10/site-packages/ppmi_downloader/ppmi_navigator.py:166\u001b[0m, in \u001b[0;36mHTMLHelper.click_button\u001b[0;34m(self, field, BY, debug_name, trials)\u001b[0m\n\u001b[1;32m    164\u001b[0m predicate \u001b[38;5;241m=\u001b[39m EC\u001b[38;5;241m.\u001b[39melement_to_be_clickable((BY, field))\n\u001b[1;32m    165\u001b[0m button \u001b[38;5;241m=\u001b[39m \u001b[43mWebDriverWait\u001b[49m\u001b[43m(\u001b[49m\u001b[38;5;28;43mself\u001b[39;49m\u001b[38;5;241;43m.\u001b[39;49m\u001b[43mdriver\u001b[49m\u001b[43m,\u001b[49m\u001b[43m \u001b[49m\u001b[43mTIMEOUT\u001b[49m\u001b[43m,\u001b[49m\n\u001b[0;32m--> 166\u001b[0m \u001b[43m                       \u001b[49m\u001b[43mpoll_frequency\u001b[49m\u001b[38;5;241;43m=\u001b[39;49m\u001b[38;5;241;43m1\u001b[39;49m\u001b[43m)\u001b[49m\u001b[38;5;241;43m.\u001b[39;49m\u001b[43muntil\u001b[49m\u001b[43m(\u001b[49m\u001b[43mpredicate\u001b[49m\u001b[43m)\u001b[49m\n\u001b[1;32m    167\u001b[0m button\u001b[38;5;241m.\u001b[39mclick()\n",
      "File \u001b[0;32m~/Workspace/rahayel-etal/env/lib/python3.10/site-packages/selenium/webdriver/support/wait.py:95\u001b[0m, in \u001b[0;36mWebDriverWait.until\u001b[0;34m(self, method, message)\u001b[0m\n\u001b[1;32m     94\u001b[0m         \u001b[38;5;28;01mbreak\u001b[39;00m\n\u001b[0;32m---> 95\u001b[0m \u001b[38;5;28;01mraise\u001b[39;00m TimeoutException(message, screen, stacktrace)\n",
      "\u001b[0;31mTimeoutException\u001b[0m: Message: \nStacktrace:\n#0 0x555d9ec49d93 <unknown>\n#1 0x555d9ea182d7 <unknown>\n#2 0x555d9ea54caa <unknown>\n#3 0x555d9ea54db1 <unknown>\n#4 0x555d9ea928f4 <unknown>\n#5 0x555d9ea7861d <unknown>\n#6 0x555d9ea90619 <unknown>\n#7 0x555d9ea78353 <unknown>\n#8 0x555d9ea47e40 <unknown>\n#9 0x555d9ea49038 <unknown>\n#10 0x555d9ec9d8be <unknown>\n#11 0x555d9eca18f0 <unknown>\n#12 0x555d9ec81f90 <unknown>\n#13 0x555d9eca2b7d <unknown>\n#14 0x555d9ec73578 <unknown>\n#15 0x555d9ecc7348 <unknown>\n#16 0x555d9ecc74d6 <unknown>\n#17 0x555d9ece1341 <unknown>\n#18 0x7f8689e05609 start_thread\n",
      "\nDuring handling of the above exception, another exception occurred:\n",
      "\u001b[0;31mTimeoutException\u001b[0m                          Traceback (most recent call last)",
      "File \u001b[0;32m~/Workspace/rahayel-etal/env/lib/python3.10/site-packages/ppmi_downloader/ppmi_navigator.py:166\u001b[0m, in \u001b[0;36mHTMLHelper.click_button\u001b[0;34m(self, field, BY, debug_name, trials)\u001b[0m\n\u001b[1;32m    164\u001b[0m predicate \u001b[38;5;241m=\u001b[39m EC\u001b[38;5;241m.\u001b[39melement_to_be_clickable((BY, field))\n\u001b[1;32m    165\u001b[0m button \u001b[38;5;241m=\u001b[39m \u001b[43mWebDriverWait\u001b[49m\u001b[43m(\u001b[49m\u001b[38;5;28;43mself\u001b[39;49m\u001b[38;5;241;43m.\u001b[39;49m\u001b[43mdriver\u001b[49m\u001b[43m,\u001b[49m\u001b[43m \u001b[49m\u001b[43mTIMEOUT\u001b[49m\u001b[43m,\u001b[49m\n\u001b[0;32m--> 166\u001b[0m \u001b[43m                       \u001b[49m\u001b[43mpoll_frequency\u001b[49m\u001b[38;5;241;43m=\u001b[39;49m\u001b[38;5;241;43m1\u001b[39;49m\u001b[43m)\u001b[49m\u001b[38;5;241;43m.\u001b[39;49m\u001b[43muntil\u001b[49m\u001b[43m(\u001b[49m\u001b[43mpredicate\u001b[49m\u001b[43m)\u001b[49m\n\u001b[1;32m    167\u001b[0m button\u001b[38;5;241m.\u001b[39mclick()\n",
      "File \u001b[0;32m~/Workspace/rahayel-etal/env/lib/python3.10/site-packages/selenium/webdriver/support/wait.py:95\u001b[0m, in \u001b[0;36mWebDriverWait.until\u001b[0;34m(self, method, message)\u001b[0m\n\u001b[1;32m     94\u001b[0m         \u001b[38;5;28;01mbreak\u001b[39;00m\n\u001b[0;32m---> 95\u001b[0m \u001b[38;5;28;01mraise\u001b[39;00m TimeoutException(message, screen, stacktrace)\n",
      "\u001b[0;31mTimeoutException\u001b[0m: Message: \nStacktrace:\n#0 0x555d9ec49d93 <unknown>\n#1 0x555d9ea182d7 <unknown>\n#2 0x555d9ea54caa <unknown>\n#3 0x555d9ea54db1 <unknown>\n#4 0x555d9ea928f4 <unknown>\n#5 0x555d9ea7861d <unknown>\n#6 0x555d9ea90619 <unknown>\n#7 0x555d9ea78353 <unknown>\n#8 0x555d9ea47e40 <unknown>\n#9 0x555d9ea49038 <unknown>\n#10 0x555d9ec9d8be <unknown>\n#11 0x555d9eca18f0 <unknown>\n#12 0x555d9ec81f90 <unknown>\n#13 0x555d9eca2b7d <unknown>\n#14 0x555d9ec73578 <unknown>\n#15 0x555d9ecc7348 <unknown>\n#16 0x555d9ecc74d6 <unknown>\n#17 0x555d9ece1341 <unknown>\n#18 0x7f8689e05609 start_thread\n",
      "\nDuring handling of the above exception, another exception occurred:\n",
      "\u001b[0;31mTimeoutException\u001b[0m                          Traceback (most recent call last)",
      "File \u001b[0;32m~/Workspace/rahayel-etal/env/lib/python3.10/site-packages/ppmi_downloader/ppmi_navigator.py:166\u001b[0m, in \u001b[0;36mHTMLHelper.click_button\u001b[0;34m(self, field, BY, debug_name, trials)\u001b[0m\n\u001b[1;32m    164\u001b[0m predicate \u001b[38;5;241m=\u001b[39m EC\u001b[38;5;241m.\u001b[39melement_to_be_clickable((BY, field))\n\u001b[1;32m    165\u001b[0m button \u001b[38;5;241m=\u001b[39m \u001b[43mWebDriverWait\u001b[49m\u001b[43m(\u001b[49m\u001b[38;5;28;43mself\u001b[39;49m\u001b[38;5;241;43m.\u001b[39;49m\u001b[43mdriver\u001b[49m\u001b[43m,\u001b[49m\u001b[43m \u001b[49m\u001b[43mTIMEOUT\u001b[49m\u001b[43m,\u001b[49m\n\u001b[0;32m--> 166\u001b[0m \u001b[43m                       \u001b[49m\u001b[43mpoll_frequency\u001b[49m\u001b[38;5;241;43m=\u001b[39;49m\u001b[38;5;241;43m1\u001b[39;49m\u001b[43m)\u001b[49m\u001b[38;5;241;43m.\u001b[39;49m\u001b[43muntil\u001b[49m\u001b[43m(\u001b[49m\u001b[43mpredicate\u001b[49m\u001b[43m)\u001b[49m\n\u001b[1;32m    167\u001b[0m button\u001b[38;5;241m.\u001b[39mclick()\n",
      "File \u001b[0;32m~/Workspace/rahayel-etal/env/lib/python3.10/site-packages/selenium/webdriver/support/wait.py:95\u001b[0m, in \u001b[0;36mWebDriverWait.until\u001b[0;34m(self, method, message)\u001b[0m\n\u001b[1;32m     94\u001b[0m         \u001b[38;5;28;01mbreak\u001b[39;00m\n\u001b[0;32m---> 95\u001b[0m \u001b[38;5;28;01mraise\u001b[39;00m TimeoutException(message, screen, stacktrace)\n",
      "\u001b[0;31mTimeoutException\u001b[0m: Message: \nStacktrace:\n#0 0x555d9ec49d93 <unknown>\n#1 0x555d9ea182d7 <unknown>\n#2 0x555d9ea54caa <unknown>\n#3 0x555d9ea54db1 <unknown>\n#4 0x555d9ea928f4 <unknown>\n#5 0x555d9ea7861d <unknown>\n#6 0x555d9ea90619 <unknown>\n#7 0x555d9ea78353 <unknown>\n#8 0x555d9ea47e40 <unknown>\n#9 0x555d9ea49038 <unknown>\n#10 0x555d9ec9d8be <unknown>\n#11 0x555d9eca18f0 <unknown>\n#12 0x555d9ec81f90 <unknown>\n#13 0x555d9eca2b7d <unknown>\n#14 0x555d9ec73578 <unknown>\n#15 0x555d9ecc7348 <unknown>\n#16 0x555d9ecc74d6 <unknown>\n#17 0x555d9ece1341 <unknown>\n#18 0x7f8689e05609 start_thread\n",
      "\nDuring handling of the above exception, another exception occurred:\n",
      "\u001b[0;31mTimeoutException\u001b[0m                          Traceback (most recent call last)",
      "File \u001b[0;32m~/Workspace/rahayel-etal/env/lib/python3.10/site-packages/ppmi_downloader/ppmi_navigator.py:166\u001b[0m, in \u001b[0;36mHTMLHelper.click_button\u001b[0;34m(self, field, BY, debug_name, trials)\u001b[0m\n\u001b[1;32m    164\u001b[0m predicate \u001b[38;5;241m=\u001b[39m EC\u001b[38;5;241m.\u001b[39melement_to_be_clickable((BY, field))\n\u001b[1;32m    165\u001b[0m button \u001b[38;5;241m=\u001b[39m \u001b[43mWebDriverWait\u001b[49m\u001b[43m(\u001b[49m\u001b[38;5;28;43mself\u001b[39;49m\u001b[38;5;241;43m.\u001b[39;49m\u001b[43mdriver\u001b[49m\u001b[43m,\u001b[49m\u001b[43m \u001b[49m\u001b[43mTIMEOUT\u001b[49m\u001b[43m,\u001b[49m\n\u001b[0;32m--> 166\u001b[0m \u001b[43m                       \u001b[49m\u001b[43mpoll_frequency\u001b[49m\u001b[38;5;241;43m=\u001b[39;49m\u001b[38;5;241;43m1\u001b[39;49m\u001b[43m)\u001b[49m\u001b[38;5;241;43m.\u001b[39;49m\u001b[43muntil\u001b[49m\u001b[43m(\u001b[49m\u001b[43mpredicate\u001b[49m\u001b[43m)\u001b[49m\n\u001b[1;32m    167\u001b[0m button\u001b[38;5;241m.\u001b[39mclick()\n",
      "File \u001b[0;32m~/Workspace/rahayel-etal/env/lib/python3.10/site-packages/selenium/webdriver/support/wait.py:95\u001b[0m, in \u001b[0;36mWebDriverWait.until\u001b[0;34m(self, method, message)\u001b[0m\n\u001b[1;32m     94\u001b[0m         \u001b[38;5;28;01mbreak\u001b[39;00m\n\u001b[0;32m---> 95\u001b[0m \u001b[38;5;28;01mraise\u001b[39;00m TimeoutException(message, screen, stacktrace)\n",
      "\u001b[0;31mTimeoutException\u001b[0m: Message: \nStacktrace:\n#0 0x555d9ec49d93 <unknown>\n#1 0x555d9ea182d7 <unknown>\n#2 0x555d9ea54caa <unknown>\n#3 0x555d9ea54db1 <unknown>\n#4 0x555d9ea928f4 <unknown>\n#5 0x555d9ea7861d <unknown>\n#6 0x555d9ea90619 <unknown>\n#7 0x555d9ea78353 <unknown>\n#8 0x555d9ea47e40 <unknown>\n#9 0x555d9ea49038 <unknown>\n#10 0x555d9ec9d8be <unknown>\n#11 0x555d9eca18f0 <unknown>\n#12 0x555d9ec81f90 <unknown>\n#13 0x555d9eca2b7d <unknown>\n#14 0x555d9ec73578 <unknown>\n#15 0x555d9ecc7348 <unknown>\n#16 0x555d9ecc74d6 <unknown>\n#17 0x555d9ece1341 <unknown>\n#18 0x7f8689e05609 start_thread\n",
      "\nDuring handling of the above exception, another exception occurred:\n",
      "\u001b[0;31mTimeoutException\u001b[0m                          Traceback (most recent call last)",
      "File \u001b[0;32m~/Workspace/rahayel-etal/env/lib/python3.10/site-packages/ppmi_downloader/ppmi_navigator.py:166\u001b[0m, in \u001b[0;36mHTMLHelper.click_button\u001b[0;34m(self, field, BY, debug_name, trials)\u001b[0m\n\u001b[1;32m    164\u001b[0m predicate \u001b[38;5;241m=\u001b[39m EC\u001b[38;5;241m.\u001b[39melement_to_be_clickable((BY, field))\n\u001b[1;32m    165\u001b[0m button \u001b[38;5;241m=\u001b[39m \u001b[43mWebDriverWait\u001b[49m\u001b[43m(\u001b[49m\u001b[38;5;28;43mself\u001b[39;49m\u001b[38;5;241;43m.\u001b[39;49m\u001b[43mdriver\u001b[49m\u001b[43m,\u001b[49m\u001b[43m \u001b[49m\u001b[43mTIMEOUT\u001b[49m\u001b[43m,\u001b[49m\n\u001b[0;32m--> 166\u001b[0m \u001b[43m                       \u001b[49m\u001b[43mpoll_frequency\u001b[49m\u001b[38;5;241;43m=\u001b[39;49m\u001b[38;5;241;43m1\u001b[39;49m\u001b[43m)\u001b[49m\u001b[38;5;241;43m.\u001b[39;49m\u001b[43muntil\u001b[49m\u001b[43m(\u001b[49m\u001b[43mpredicate\u001b[49m\u001b[43m)\u001b[49m\n\u001b[1;32m    167\u001b[0m button\u001b[38;5;241m.\u001b[39mclick()\n",
      "File \u001b[0;32m~/Workspace/rahayel-etal/env/lib/python3.10/site-packages/selenium/webdriver/support/wait.py:95\u001b[0m, in \u001b[0;36mWebDriverWait.until\u001b[0;34m(self, method, message)\u001b[0m\n\u001b[1;32m     94\u001b[0m         \u001b[38;5;28;01mbreak\u001b[39;00m\n\u001b[0;32m---> 95\u001b[0m \u001b[38;5;28;01mraise\u001b[39;00m TimeoutException(message, screen, stacktrace)\n",
      "\u001b[0;31mTimeoutException\u001b[0m: Message: \nStacktrace:\n#0 0x555d9ec49d93 <unknown>\n#1 0x555d9ea182d7 <unknown>\n#2 0x555d9ea54caa <unknown>\n#3 0x555d9ea54db1 <unknown>\n#4 0x555d9ea928f4 <unknown>\n#5 0x555d9ea7861d <unknown>\n#6 0x555d9ea90619 <unknown>\n#7 0x555d9ea78353 <unknown>\n#8 0x555d9ea47e40 <unknown>\n#9 0x555d9ea49038 <unknown>\n#10 0x555d9ec9d8be <unknown>\n#11 0x555d9eca18f0 <unknown>\n#12 0x555d9ec81f90 <unknown>\n#13 0x555d9eca2b7d <unknown>\n#14 0x555d9ec73578 <unknown>\n#15 0x555d9ecc7348 <unknown>\n#16 0x555d9ecc74d6 <unknown>\n#17 0x555d9ece1341 <unknown>\n#18 0x7f8689e05609 start_thread\n",
      "\nDuring handling of the above exception, another exception occurred:\n",
      "\u001b[0;31mTimeoutException\u001b[0m                          Traceback (most recent call last)",
      "File \u001b[0;32m~/Workspace/rahayel-etal/env/lib/python3.10/site-packages/ppmi_downloader/ppmi_navigator.py:166\u001b[0m, in \u001b[0;36mHTMLHelper.click_button\u001b[0;34m(self, field, BY, debug_name, trials)\u001b[0m\n\u001b[1;32m    164\u001b[0m predicate \u001b[38;5;241m=\u001b[39m EC\u001b[38;5;241m.\u001b[39melement_to_be_clickable((BY, field))\n\u001b[1;32m    165\u001b[0m button \u001b[38;5;241m=\u001b[39m \u001b[43mWebDriverWait\u001b[49m\u001b[43m(\u001b[49m\u001b[38;5;28;43mself\u001b[39;49m\u001b[38;5;241;43m.\u001b[39;49m\u001b[43mdriver\u001b[49m\u001b[43m,\u001b[49m\u001b[43m \u001b[49m\u001b[43mTIMEOUT\u001b[49m\u001b[43m,\u001b[49m\n\u001b[0;32m--> 166\u001b[0m \u001b[43m                       \u001b[49m\u001b[43mpoll_frequency\u001b[49m\u001b[38;5;241;43m=\u001b[39;49m\u001b[38;5;241;43m1\u001b[39;49m\u001b[43m)\u001b[49m\u001b[38;5;241;43m.\u001b[39;49m\u001b[43muntil\u001b[49m\u001b[43m(\u001b[49m\u001b[43mpredicate\u001b[49m\u001b[43m)\u001b[49m\n\u001b[1;32m    167\u001b[0m button\u001b[38;5;241m.\u001b[39mclick()\n",
      "File \u001b[0;32m~/Workspace/rahayel-etal/env/lib/python3.10/site-packages/selenium/webdriver/support/wait.py:95\u001b[0m, in \u001b[0;36mWebDriverWait.until\u001b[0;34m(self, method, message)\u001b[0m\n\u001b[1;32m     94\u001b[0m         \u001b[38;5;28;01mbreak\u001b[39;00m\n\u001b[0;32m---> 95\u001b[0m \u001b[38;5;28;01mraise\u001b[39;00m TimeoutException(message, screen, stacktrace)\n",
      "\u001b[0;31mTimeoutException\u001b[0m: Message: \nStacktrace:\n#0 0x555d9ec49d93 <unknown>\n#1 0x555d9ea182d7 <unknown>\n#2 0x555d9ea54caa <unknown>\n#3 0x555d9ea54db1 <unknown>\n#4 0x555d9ea928f4 <unknown>\n#5 0x555d9ea7861d <unknown>\n#6 0x555d9ea90619 <unknown>\n#7 0x555d9ea78353 <unknown>\n#8 0x555d9ea47e40 <unknown>\n#9 0x555d9ea49038 <unknown>\n#10 0x555d9ec9d8be <unknown>\n#11 0x555d9eca18f0 <unknown>\n#12 0x555d9ec81f90 <unknown>\n#13 0x555d9eca2b7d <unknown>\n#14 0x555d9ec73578 <unknown>\n#15 0x555d9ecc7348 <unknown>\n#16 0x555d9ecc74d6 <unknown>\n#17 0x555d9ece1341 <unknown>\n#18 0x7f8689e05609 start_thread\n",
      "\nDuring handling of the above exception, another exception occurred:\n",
      "\u001b[0;31mSystemExit\u001b[0m                                Traceback (most recent call last)",
      "    \u001b[0;31m[... skipping hidden 1 frame]\u001b[0m\n",
      "Cell \u001b[0;32mIn[3], line 14\u001b[0m\n\u001b[1;32m      1\u001b[0m required_files \u001b[38;5;241m=\u001b[39m [\n\u001b[1;32m      2\u001b[0m     \u001b[38;5;124m\"\u001b[39m\u001b[38;5;124mDemographics.csv\u001b[39m\u001b[38;5;124m\"\u001b[39m,\n\u001b[1;32m      3\u001b[0m     \u001b[38;5;124m\"\u001b[39m\u001b[38;5;124mREM_Sleep_Behavior_Disorder_Questionnaire.csv\u001b[39m\u001b[38;5;124m\"\u001b[39m,\n\u001b[0;32m   (...)\u001b[0m\n\u001b[1;32m     11\u001b[0m     \u001b[38;5;124m\"\u001b[39m\u001b[38;5;124mVital_Signs.csv\u001b[39m\u001b[38;5;124m\"\u001b[39m\n\u001b[1;32m     12\u001b[0m ]\n\u001b[0;32m---> 14\u001b[0m \u001b[43mutils\u001b[49m\u001b[38;5;241;43m.\u001b[39;49m\u001b[43mdownload_ppmi_metadata\u001b[49m\u001b[43m(\u001b[49m\u001b[43mrequired_files\u001b[49m\u001b[43m,\u001b[49m\u001b[43m \u001b[49m\u001b[43mheadless\u001b[49m\u001b[38;5;241;43m=\u001b[39;49m\u001b[38;5;28;43;01mFalse\u001b[39;49;00m\u001b[43m)\u001b[49m\n",
      "File \u001b[0;32m~/Workspace/rahayel-etal/env/lib/python3.10/site-packages/livingpark_utils/deprecation.py:39\u001b[0m, in \u001b[0;36mdeprecated.<locals>._decorator.<locals>._wrapper\u001b[0;34m(*args, **kwargs)\u001b[0m\n\u001b[1;32m     38\u001b[0m warnings\u001b[38;5;241m.\u001b[39msimplefilter(\u001b[38;5;124m\"\u001b[39m\u001b[38;5;124mdefault\u001b[39m\u001b[38;5;124m\"\u001b[39m, \u001b[38;5;167;01mDeprecationWarning\u001b[39;00m)  \u001b[38;5;66;03m# reset filter\u001b[39;00m\n\u001b[0;32m---> 39\u001b[0m \u001b[38;5;28;01mreturn\u001b[39;00m \u001b[43mfunc\u001b[49m\u001b[43m(\u001b[49m\u001b[38;5;241;43m*\u001b[39;49m\u001b[43margs\u001b[49m\u001b[43m,\u001b[49m\u001b[43m \u001b[49m\u001b[38;5;241;43m*\u001b[39;49m\u001b[38;5;241;43m*\u001b[39;49m\u001b[43mkwargs\u001b[49m\u001b[43m)\u001b[49m\n",
      "File \u001b[0;32m~/Workspace/rahayel-etal/env/lib/python3.10/site-packages/livingpark_utils/livingpark_utils.py:913\u001b[0m, in \u001b[0;36mLivingParkUtils.download_ppmi_metadata\u001b[0;34m(self, required_files, force, headless, timeout)\u001b[0m\n\u001b[1;32m    912\u001b[0m ppmi_downloader \u001b[38;5;241m=\u001b[39m ppmi\u001b[38;5;241m.\u001b[39mDownloader(\u001b[38;5;28mself\u001b[39m\u001b[38;5;241m.\u001b[39mstudy_files_dir, headless\u001b[38;5;241m=\u001b[39mheadless)\n\u001b[0;32m--> 913\u001b[0m \u001b[38;5;28;01mreturn\u001b[39;00m \u001b[38;5;28;43mself\u001b[39;49m\u001b[38;5;241;43m.\u001b[39;49m\u001b[43mget_study_files\u001b[49m\u001b[43m(\u001b[49m\n\u001b[1;32m    914\u001b[0m \u001b[43m    \u001b[49m\u001b[43mquery\u001b[49m\u001b[38;5;241;43m=\u001b[39;49m\u001b[43mrequired_files\u001b[49m\u001b[43m,\u001b[49m\u001b[43m \u001b[49m\u001b[43mdefault\u001b[49m\u001b[38;5;241;43m=\u001b[39;49m\u001b[43mppmi_downloader\u001b[49m\u001b[43m,\u001b[49m\u001b[43m \u001b[49m\u001b[43mforce\u001b[49m\u001b[38;5;241;43m=\u001b[39;49m\u001b[43mforce\u001b[49m\u001b[43m,\u001b[49m\u001b[43m \u001b[49m\u001b[43mtimeout\u001b[49m\u001b[38;5;241;43m=\u001b[39;49m\u001b[43mtimeout\u001b[49m\n\u001b[1;32m    915\u001b[0m \u001b[43m\u001b[49m\u001b[43m)\u001b[49m\n",
      "File \u001b[0;32m~/Workspace/rahayel-etal/env/lib/python3.10/site-packages/livingpark_utils/livingpark_utils.py:118\u001b[0m, in \u001b[0;36mLivingParkUtils.get_study_files\u001b[0;34m(self, query, default, force, timeout)\u001b[0m\n\u001b[1;32m    117\u001b[0m pprint(\u001b[38;5;124mf\u001b[39m\u001b[38;5;124m\"\u001b[39m\u001b[38;5;124mDownloading files: \u001b[39m\u001b[38;5;132;01m{\u001b[39;00mmissing\u001b[38;5;132;01m}\u001b[39;00m\u001b[38;5;124m\"\u001b[39m)\n\u001b[0;32m--> 118\u001b[0m _, missing \u001b[38;5;241m=\u001b[39m \u001b[43mdefault\u001b[49m\u001b[38;5;241;43m.\u001b[39;49m\u001b[43mget_study_files\u001b[49m\u001b[43m(\u001b[49m\u001b[43mmissing\u001b[49m\u001b[43m,\u001b[49m\u001b[43m \u001b[49m\u001b[43mtimeout\u001b[49m\u001b[38;5;241;43m=\u001b[39;49m\u001b[43mtimeout\u001b[49m\u001b[43m)\u001b[49m\n\u001b[1;32m    120\u001b[0m \u001b[38;5;28;01mif\u001b[39;00m \u001b[38;5;28mlen\u001b[39m(missing) \u001b[38;5;241m>\u001b[39m \u001b[38;5;241m0\u001b[39m:\n",
      "File \u001b[0;32m~/Workspace/rahayel-etal/env/lib/python3.10/site-packages/livingpark_utils/download/ppmi.py:58\u001b[0m, in \u001b[0;36mDownloader.get_study_files\u001b[0;34m(self, query, timeout)\u001b[0m\n\u001b[1;32m     57\u001b[0m \u001b[38;5;28;01mtry\u001b[39;00m:\n\u001b[0;32m---> 58\u001b[0m     downloader \u001b[38;5;241m=\u001b[39m \u001b[43mppmi_downloader\u001b[49m\u001b[38;5;241;43m.\u001b[39;49m\u001b[43mPPMIDownloader\u001b[49m\u001b[43m(\u001b[49m\u001b[43mheadless\u001b[49m\u001b[38;5;241;43m=\u001b[39;49m\u001b[38;5;28;43mself\u001b[39;49m\u001b[38;5;241;43m.\u001b[39;49m\u001b[43mheadless\u001b[49m\u001b[43m)\u001b[49m\n\u001b[1;32m     59\u001b[0m     downloader\u001b[38;5;241m.\u001b[39mdownload_metadata(\n\u001b[1;32m     60\u001b[0m         query,\n\u001b[1;32m     61\u001b[0m         destination_dir\u001b[38;5;241m=\u001b[39m\u001b[38;5;28mself\u001b[39m\u001b[38;5;241m.\u001b[39mout_dir,\n\u001b[1;32m     62\u001b[0m         timeout\u001b[38;5;241m=\u001b[39mtimeout,\n\u001b[1;32m     63\u001b[0m     )\n",
      "File \u001b[0;32m~/Workspace/rahayel-etal/env/lib/python3.10/site-packages/ppmi_downloader/ppmi_downloader.py:161\u001b[0m, in \u001b[0;36mPPMIDownloader.__init__\u001b[0;34m(self, config_file, headless, tempdir, remote)\u001b[0m\n\u001b[1;32m    160\u001b[0m \u001b[38;5;28;01mif\u001b[39;00m \u001b[38;5;129;01mnot\u001b[39;00m \u001b[38;5;28mself\u001b[39m\u001b[38;5;241m.\u001b[39mfile_ids_path\u001b[38;5;241m.\u001b[39mexists():\n\u001b[0;32m--> 161\u001b[0m     \u001b[38;5;28;43mself\u001b[39;49m\u001b[38;5;241;43m.\u001b[39;49m\u001b[43mcrawl_study_data\u001b[49m\u001b[43m(\u001b[49m\u001b[43mcache_file\u001b[49m\u001b[38;5;241;43m=\u001b[39;49m\u001b[38;5;28;43mself\u001b[39;49m\u001b[38;5;241;43m.\u001b[39;49m\u001b[43mfile_ids_path\u001b[49m\u001b[43m)\u001b[49m\n\u001b[1;32m    163\u001b[0m \u001b[38;5;28;01mwith\u001b[39;00m \u001b[38;5;28mopen\u001b[39m(\u001b[38;5;28mself\u001b[39m\u001b[38;5;241m.\u001b[39mfile_ids_path, \u001b[38;5;124m\"\u001b[39m\u001b[38;5;124mr\u001b[39m\u001b[38;5;124m\"\u001b[39m, encoding\u001b[38;5;241m=\u001b[39m\u001b[38;5;124m\"\u001b[39m\u001b[38;5;124mutf-8\u001b[39m\u001b[38;5;124m\"\u001b[39m) \u001b[38;5;28;01mas\u001b[39;00m fin:\n",
      "File \u001b[0;32m~/Workspace/rahayel-etal/env/lib/python3.10/site-packages/ppmi_downloader/ppmi_downloader.py:278\u001b[0m, in \u001b[0;36mPPMIDownloader.crawl_study_data\u001b[0;34m(self, cache_file, headless)\u001b[0m\n\u001b[1;32m    277\u001b[0m \u001b[38;5;28mself\u001b[39m\u001b[38;5;241m.\u001b[39minit_and_log(headless\u001b[38;5;241m=\u001b[39mheadless)\n\u001b[0;32m--> 278\u001b[0m \u001b[38;5;28;43mself\u001b[39;49m\u001b[38;5;241;43m.\u001b[39;49m\u001b[43mhtml\u001b[49m\u001b[38;5;241;43m.\u001b[39;49m\u001b[43mclick_button_chain\u001b[49m\u001b[43m(\u001b[49m\u001b[43m[\u001b[49m\u001b[38;5;124;43m\"\u001b[39;49m\u001b[38;5;124;43mDownload\u001b[39;49m\u001b[38;5;124;43m\"\u001b[39;49m\u001b[43m,\u001b[49m\u001b[43m \u001b[49m\u001b[38;5;124;43m\"\u001b[39;49m\u001b[38;5;124;43mStudy Data\u001b[39;49m\u001b[38;5;124;43m\"\u001b[39;49m\u001b[43m,\u001b[49m\u001b[43m \u001b[49m\u001b[38;5;124;43m\"\u001b[39;49m\u001b[38;5;124;43mALL\u001b[39;49m\u001b[38;5;124;43m\"\u001b[39;49m\u001b[43m]\u001b[49m\u001b[43m)\u001b[49m\n\u001b[1;32m    279\u001b[0m soup \u001b[38;5;241m=\u001b[39m BeautifulSoup(\u001b[38;5;28mself\u001b[39m\u001b[38;5;241m.\u001b[39mdriver\u001b[38;5;241m.\u001b[39mpage_source, features\u001b[38;5;241m=\u001b[39m\u001b[38;5;124m\"\u001b[39m\u001b[38;5;124mlxml\u001b[39m\u001b[38;5;124m\"\u001b[39m)\n",
      "File \u001b[0;32m~/Workspace/rahayel-etal/env/lib/python3.10/site-packages/ppmi_downloader/ppmi_navigator.py:443\u001b[0m, in \u001b[0;36mPPMINavigator.click_button_chain\u001b[0;34m(self, chain)\u001b[0m\n\u001b[1;32m    442\u001b[0m action\u001b[38;5;241m.\u001b[39mappend(\u001b[38;5;28mself\u001b[39m\u001b[38;5;241m.\u001b[39mclick_chain_cleaner(action_name))\n\u001b[0;32m--> 443\u001b[0m \u001b[38;5;28;43mgetattr\u001b[39;49m\u001b[43m(\u001b[49m\u001b[38;5;28;43mself\u001b[39;49m\u001b[43m,\u001b[49m\u001b[43m \u001b[49m\u001b[38;5;124;43m'\u001b[39;49m\u001b[38;5;124;43m_\u001b[39;49m\u001b[38;5;124;43m'\u001b[39;49m\u001b[38;5;241;43m.\u001b[39;49m\u001b[43mjoin\u001b[49m\u001b[43m(\u001b[49m\u001b[43maction\u001b[49m\u001b[43m)\u001b[49m\u001b[43m)\u001b[49m\u001b[43m(\u001b[49m\u001b[43m)\u001b[49m\n",
      "File \u001b[0;32m~/Workspace/rahayel-etal/env/lib/python3.10/site-packages/ppmi_downloader/ppmi_navigator.py:577\u001b[0m, in \u001b[0;36mPPMINavigator.Download_StudyData_ALL\u001b[0;34m(self)\u001b[0m\n\u001b[1;32m    576\u001b[0m \u001b[38;5;28;01mwhile\u001b[39;00m \u001b[38;5;28mself\u001b[39m\u001b[38;5;241m.\u001b[39mdriver\u001b[38;5;241m.\u001b[39mcurrent_url \u001b[38;5;241m!=\u001b[39m studydata_url:\n\u001b[0;32m--> 577\u001b[0m     \u001b[38;5;28;43mself\u001b[39;49m\u001b[38;5;241;43m.\u001b[39;49m\u001b[43mclick_button\u001b[49m\u001b[43m(\u001b[49m\u001b[38;5;124;43m\"\u001b[39;49m\u001b[38;5;124;43mygtvlabelel71\u001b[39;49m\u001b[38;5;124;43m\"\u001b[39;49m\u001b[43m,\u001b[49m\u001b[43m \u001b[49m\u001b[43mBY\u001b[49m\u001b[38;5;241;43m=\u001b[39;49m\u001b[43mBy\u001b[49m\u001b[38;5;241;43m.\u001b[39;49m\u001b[43mID\u001b[49m\u001b[43m,\u001b[49m\u001b[43m \u001b[49m\u001b[43mdebug_name\u001b[49m\u001b[38;5;241;43m=\u001b[39;49m\u001b[38;5;124;43m'\u001b[39;49m\u001b[38;5;124;43mALL\u001b[39;49m\u001b[38;5;124;43m'\u001b[39;49m\u001b[43m)\u001b[49m\n",
      "File \u001b[0;32m~/Workspace/rahayel-etal/env/lib/python3.10/site-packages/ppmi_downloader/ppmi_navigator.py:169\u001b[0m, in \u001b[0;36mHTMLHelper.click_button\u001b[0;34m(self, field, BY, debug_name, trials)\u001b[0m\n\u001b[1;32m    168\u001b[0m \u001b[38;5;28;01mexcept\u001b[39;00m WebDriverException:\n\u001b[0;32m--> 169\u001b[0m     \u001b[38;5;28;43mself\u001b[39;49m\u001b[38;5;241;43m.\u001b[39;49m\u001b[43mclick_button\u001b[49m\u001b[43m(\u001b[49m\u001b[43mfield\u001b[49m\u001b[38;5;241;43m=\u001b[39;49m\u001b[43mfield\u001b[49m\u001b[43m,\u001b[49m\u001b[43m \u001b[49m\u001b[43mBY\u001b[49m\u001b[38;5;241;43m=\u001b[39;49m\u001b[43mBY\u001b[49m\u001b[43m,\u001b[49m\n\u001b[1;32m    170\u001b[0m \u001b[43m                      \u001b[49m\u001b[43mdebug_name\u001b[49m\u001b[38;5;241;43m=\u001b[39;49m\u001b[43mdebug_name\u001b[49m\u001b[43m,\u001b[49m\n\u001b[1;32m    171\u001b[0m \u001b[43m                      \u001b[49m\u001b[43mtrials\u001b[49m\u001b[38;5;241;43m=\u001b[39;49m\u001b[43mtrials\u001b[49m\u001b[43m \u001b[49m\u001b[38;5;241;43m-\u001b[39;49m\u001b[43m \u001b[49m\u001b[38;5;241;43m1\u001b[39;49m\u001b[43m)\u001b[49m\n",
      "File \u001b[0;32m~/Workspace/rahayel-etal/env/lib/python3.10/site-packages/ppmi_downloader/ppmi_navigator.py:169\u001b[0m, in \u001b[0;36mHTMLHelper.click_button\u001b[0;34m(self, field, BY, debug_name, trials)\u001b[0m\n\u001b[1;32m    168\u001b[0m \u001b[38;5;28;01mexcept\u001b[39;00m WebDriverException:\n\u001b[0;32m--> 169\u001b[0m     \u001b[38;5;28;43mself\u001b[39;49m\u001b[38;5;241;43m.\u001b[39;49m\u001b[43mclick_button\u001b[49m\u001b[43m(\u001b[49m\u001b[43mfield\u001b[49m\u001b[38;5;241;43m=\u001b[39;49m\u001b[43mfield\u001b[49m\u001b[43m,\u001b[49m\u001b[43m \u001b[49m\u001b[43mBY\u001b[49m\u001b[38;5;241;43m=\u001b[39;49m\u001b[43mBY\u001b[49m\u001b[43m,\u001b[49m\n\u001b[1;32m    170\u001b[0m \u001b[43m                      \u001b[49m\u001b[43mdebug_name\u001b[49m\u001b[38;5;241;43m=\u001b[39;49m\u001b[43mdebug_name\u001b[49m\u001b[43m,\u001b[49m\n\u001b[1;32m    171\u001b[0m \u001b[43m                      \u001b[49m\u001b[43mtrials\u001b[49m\u001b[38;5;241;43m=\u001b[39;49m\u001b[43mtrials\u001b[49m\u001b[43m \u001b[49m\u001b[38;5;241;43m-\u001b[39;49m\u001b[43m \u001b[49m\u001b[38;5;241;43m1\u001b[39;49m\u001b[43m)\u001b[49m\n",
      "    \u001b[0;31m[... skipping similar frames: HTMLHelper.click_button at line 169 (3 times)]\u001b[0m\n",
      "File \u001b[0;32m~/Workspace/rahayel-etal/env/lib/python3.10/site-packages/ppmi_downloader/ppmi_navigator.py:169\u001b[0m, in \u001b[0;36mHTMLHelper.click_button\u001b[0;34m(self, field, BY, debug_name, trials)\u001b[0m\n\u001b[1;32m    168\u001b[0m \u001b[38;5;28;01mexcept\u001b[39;00m WebDriverException:\n\u001b[0;32m--> 169\u001b[0m     \u001b[38;5;28;43mself\u001b[39;49m\u001b[38;5;241;43m.\u001b[39;49m\u001b[43mclick_button\u001b[49m\u001b[43m(\u001b[49m\u001b[43mfield\u001b[49m\u001b[38;5;241;43m=\u001b[39;49m\u001b[43mfield\u001b[49m\u001b[43m,\u001b[49m\u001b[43m \u001b[49m\u001b[43mBY\u001b[49m\u001b[38;5;241;43m=\u001b[39;49m\u001b[43mBY\u001b[49m\u001b[43m,\u001b[49m\n\u001b[1;32m    170\u001b[0m \u001b[43m                      \u001b[49m\u001b[43mdebug_name\u001b[49m\u001b[38;5;241;43m=\u001b[39;49m\u001b[43mdebug_name\u001b[49m\u001b[43m,\u001b[49m\n\u001b[1;32m    171\u001b[0m \u001b[43m                      \u001b[49m\u001b[43mtrials\u001b[49m\u001b[38;5;241;43m=\u001b[39;49m\u001b[43mtrials\u001b[49m\u001b[43m \u001b[49m\u001b[38;5;241;43m-\u001b[39;49m\u001b[43m \u001b[49m\u001b[38;5;241;43m1\u001b[39;49m\u001b[43m)\u001b[49m\n",
      "File \u001b[0;32m~/Workspace/rahayel-etal/env/lib/python3.10/site-packages/ppmi_downloader/ppmi_navigator.py:161\u001b[0m, in \u001b[0;36mHTMLHelper.click_button\u001b[0;34m(self, field, BY, debug_name, trials)\u001b[0m\n\u001b[1;32m    160\u001b[0m     \u001b[38;5;28mself\u001b[39m\u001b[38;5;241m.\u001b[39mdriver\u001b[38;5;241m.\u001b[39mquit()\n\u001b[0;32m--> 161\u001b[0m     \u001b[43mlogger\u001b[49m\u001b[38;5;241;43m.\u001b[39;49m\u001b[43merror\u001b[49m\u001b[43m(\u001b[49m\u001b[38;5;124;43m'\u001b[39;49m\u001b[38;5;124;43mNumber of trials is exceeded\u001b[39;49m\u001b[38;5;124;43m'\u001b[39;49m\u001b[43m)\u001b[49m\n\u001b[1;32m    162\u001b[0m \u001b[38;5;28;01mtry\u001b[39;00m:\n",
      "File \u001b[0;32m~/Workspace/rahayel-etal/env/lib/python3.10/site-packages/icecream/icecream.py:212\u001b[0m, in \u001b[0;36mIceCreamDebugger.__call__\u001b[0;34m(self, *args)\u001b[0m\n\u001b[1;32m    211\u001b[0m         out \u001b[38;5;241m=\u001b[39m prefix \u001b[38;5;241m+\u001b[39m \u001b[38;5;124m'\u001b[39m\u001b[38;5;124mError: \u001b[39m\u001b[38;5;124m'\u001b[39m \u001b[38;5;241m+\u001b[39m err\u001b[38;5;241m.\u001b[39minfoMessage\n\u001b[0;32m--> 212\u001b[0m     \u001b[38;5;28;43mself\u001b[39;49m\u001b[38;5;241;43m.\u001b[39;49m\u001b[43moutputFunction\u001b[49m\u001b[43m(\u001b[49m\u001b[43mout\u001b[49m\u001b[43m)\u001b[49m\n\u001b[1;32m    214\u001b[0m \u001b[38;5;28;01mif\u001b[39;00m \u001b[38;5;129;01mnot\u001b[39;00m args:  \u001b[38;5;66;03m# E.g. ic().\u001b[39;00m\n",
      "File \u001b[0;32m~/Workspace/rahayel-etal/env/lib/python3.10/site-packages/ppmi_downloader/ppmi_logger.py:25\u001b[0m, in \u001b[0;36micecream_factory.<locals>.output_function\u001b[0;34m(s)\u001b[0m\n\u001b[1;32m     24\u001b[0m icecream\u001b[38;5;241m.\u001b[39mcolorizedStderrPrint(s)\n\u001b[0;32m---> 25\u001b[0m \u001b[43mat_exit\u001b[49m\u001b[43m(\u001b[49m\u001b[43m)\u001b[49m\n",
      "File \u001b[0;32m~/Workspace/rahayel-etal/env/lib/python3.10/site-packages/ppmi_downloader/ppmi_logger.py:34\u001b[0m, in \u001b[0;36m<lambda>\u001b[0;34m()\u001b[0m\n\u001b[1;32m     33\u001b[0m warning \u001b[38;5;241m=\u001b[39m icecream_factory(LoggingLevel\u001b[38;5;241m.\u001b[39mWARNING)\n\u001b[0;32m---> 34\u001b[0m error \u001b[38;5;241m=\u001b[39m icecream_factory(LoggingLevel\u001b[38;5;241m.\u001b[39mERROR, at_exit\u001b[38;5;241m=\u001b[39m\u001b[38;5;28;01mlambda\u001b[39;00m: \u001b[43msys\u001b[49m\u001b[38;5;241;43m.\u001b[39;49m\u001b[43mexit\u001b[49m\u001b[43m(\u001b[49m\u001b[38;5;241;43m1\u001b[39;49m\u001b[43m)\u001b[49m)\n",
      "\u001b[0;31mSystemExit\u001b[0m: 1",
      "\nDuring handling of the above exception, another exception occurred:\n",
      "\u001b[0;31mAttributeError\u001b[0m                            Traceback (most recent call last)",
      "    \u001b[0;31m[... skipping hidden 1 frame]\u001b[0m\n",
      "File \u001b[0;32m~/Workspace/rahayel-etal/env/lib/python3.10/site-packages/IPython/core/interactiveshell.py:2047\u001b[0m, in \u001b[0;36mInteractiveShell.showtraceback\u001b[0;34m(self, exc_tuple, filename, tb_offset, exception_only, running_compiled_code)\u001b[0m\n\u001b[1;32m   2044\u001b[0m \u001b[38;5;28;01mif\u001b[39;00m exception_only:\n\u001b[1;32m   2045\u001b[0m     stb \u001b[38;5;241m=\u001b[39m [\u001b[38;5;124m'\u001b[39m\u001b[38;5;124mAn exception has occurred, use \u001b[39m\u001b[38;5;124m%\u001b[39m\u001b[38;5;124mtb to see \u001b[39m\u001b[38;5;124m'\u001b[39m\n\u001b[1;32m   2046\u001b[0m            \u001b[38;5;124m'\u001b[39m\u001b[38;5;124mthe full traceback.\u001b[39m\u001b[38;5;130;01m\\n\u001b[39;00m\u001b[38;5;124m'\u001b[39m]\n\u001b[0;32m-> 2047\u001b[0m     stb\u001b[38;5;241m.\u001b[39mextend(\u001b[38;5;28;43mself\u001b[39;49m\u001b[38;5;241;43m.\u001b[39;49m\u001b[43mInteractiveTB\u001b[49m\u001b[38;5;241;43m.\u001b[39;49m\u001b[43mget_exception_only\u001b[49m\u001b[43m(\u001b[49m\u001b[43metype\u001b[49m\u001b[43m,\u001b[49m\n\u001b[1;32m   2048\u001b[0m \u001b[43m                                                     \u001b[49m\u001b[43mvalue\u001b[49m\u001b[43m)\u001b[49m)\n\u001b[1;32m   2049\u001b[0m \u001b[38;5;28;01melse\u001b[39;00m:\n\u001b[1;32m   2050\u001b[0m     \u001b[38;5;28;01mtry\u001b[39;00m:\n\u001b[1;32m   2051\u001b[0m         \u001b[38;5;66;03m# Exception classes can customise their traceback - we\u001b[39;00m\n\u001b[1;32m   2052\u001b[0m         \u001b[38;5;66;03m# use this in IPython.parallel for exceptions occurring\u001b[39;00m\n\u001b[1;32m   2053\u001b[0m         \u001b[38;5;66;03m# in the engines. This should return a list of strings.\u001b[39;00m\n",
      "File \u001b[0;32m~/Workspace/rahayel-etal/env/lib/python3.10/site-packages/IPython/core/ultratb.py:636\u001b[0m, in \u001b[0;36mListTB.get_exception_only\u001b[0;34m(self, etype, value)\u001b[0m\n\u001b[1;32m    628\u001b[0m \u001b[38;5;28;01mdef\u001b[39;00m \u001b[38;5;21mget_exception_only\u001b[39m(\u001b[38;5;28mself\u001b[39m, etype, value):\n\u001b[1;32m    629\u001b[0m \u001b[38;5;250m    \u001b[39m\u001b[38;5;124;03m\"\"\"Only print the exception type and message, without a traceback.\u001b[39;00m\n\u001b[1;32m    630\u001b[0m \n\u001b[1;32m    631\u001b[0m \u001b[38;5;124;03m    Parameters\u001b[39;00m\n\u001b[0;32m   (...)\u001b[0m\n\u001b[1;32m    634\u001b[0m \u001b[38;5;124;03m    value : exception value\u001b[39;00m\n\u001b[1;32m    635\u001b[0m \u001b[38;5;124;03m    \"\"\"\u001b[39;00m\n\u001b[0;32m--> 636\u001b[0m     \u001b[38;5;28;01mreturn\u001b[39;00m \u001b[43mListTB\u001b[49m\u001b[38;5;241;43m.\u001b[39;49m\u001b[43mstructured_traceback\u001b[49m\u001b[43m(\u001b[49m\u001b[38;5;28;43mself\u001b[39;49m\u001b[43m,\u001b[49m\u001b[43m \u001b[49m\u001b[43metype\u001b[49m\u001b[43m,\u001b[49m\u001b[43m \u001b[49m\u001b[43mvalue\u001b[49m\u001b[43m)\u001b[49m\n",
      "File \u001b[0;32m~/Workspace/rahayel-etal/env/lib/python3.10/site-packages/IPython/core/ultratb.py:503\u001b[0m, in \u001b[0;36mListTB.structured_traceback\u001b[0;34m(self, etype, evalue, etb, tb_offset, context)\u001b[0m\n\u001b[1;32m    500\u001b[0m     chained_exc_ids\u001b[38;5;241m.\u001b[39madd(\u001b[38;5;28mid\u001b[39m(exception[\u001b[38;5;241m1\u001b[39m]))\n\u001b[1;32m    501\u001b[0m     chained_exceptions_tb_offset \u001b[38;5;241m=\u001b[39m \u001b[38;5;241m0\u001b[39m\n\u001b[1;32m    502\u001b[0m     out_list \u001b[38;5;241m=\u001b[39m (\n\u001b[0;32m--> 503\u001b[0m         \u001b[38;5;28;43mself\u001b[39;49m\u001b[38;5;241;43m.\u001b[39;49m\u001b[43mstructured_traceback\u001b[49m\u001b[43m(\u001b[49m\n\u001b[1;32m    504\u001b[0m \u001b[43m            \u001b[49m\u001b[43metype\u001b[49m\u001b[43m,\u001b[49m\u001b[43m \u001b[49m\u001b[43mevalue\u001b[49m\u001b[43m,\u001b[49m\u001b[43m \u001b[49m\u001b[43m(\u001b[49m\u001b[43metb\u001b[49m\u001b[43m,\u001b[49m\u001b[43m \u001b[49m\u001b[43mchained_exc_ids\u001b[49m\u001b[43m)\u001b[49m\u001b[43m,\u001b[49m\n\u001b[1;32m    505\u001b[0m \u001b[43m            \u001b[49m\u001b[43mchained_exceptions_tb_offset\u001b[49m\u001b[43m,\u001b[49m\u001b[43m \u001b[49m\u001b[43mcontext\u001b[49m\u001b[43m)\u001b[49m\n\u001b[1;32m    506\u001b[0m         \u001b[38;5;241m+\u001b[39m chained_exception_message\n\u001b[1;32m    507\u001b[0m         \u001b[38;5;241m+\u001b[39m out_list)\n\u001b[1;32m    509\u001b[0m \u001b[38;5;28;01mreturn\u001b[39;00m out_list\n",
      "File \u001b[0;32m~/Workspace/rahayel-etal/env/lib/python3.10/site-packages/IPython/core/ultratb.py:1288\u001b[0m, in \u001b[0;36mAutoFormattedTB.structured_traceback\u001b[0;34m(self, etype, value, tb, tb_offset, number_of_lines_of_context)\u001b[0m\n\u001b[1;32m   1286\u001b[0m \u001b[38;5;28;01melse\u001b[39;00m:\n\u001b[1;32m   1287\u001b[0m     \u001b[38;5;28mself\u001b[39m\u001b[38;5;241m.\u001b[39mtb \u001b[38;5;241m=\u001b[39m tb\n\u001b[0;32m-> 1288\u001b[0m \u001b[38;5;28;01mreturn\u001b[39;00m \u001b[43mFormattedTB\u001b[49m\u001b[38;5;241;43m.\u001b[39;49m\u001b[43mstructured_traceback\u001b[49m\u001b[43m(\u001b[49m\n\u001b[1;32m   1289\u001b[0m \u001b[43m    \u001b[49m\u001b[38;5;28;43mself\u001b[39;49m\u001b[43m,\u001b[49m\u001b[43m \u001b[49m\u001b[43metype\u001b[49m\u001b[43m,\u001b[49m\u001b[43m \u001b[49m\u001b[43mvalue\u001b[49m\u001b[43m,\u001b[49m\u001b[43m \u001b[49m\u001b[43mtb\u001b[49m\u001b[43m,\u001b[49m\u001b[43m \u001b[49m\u001b[43mtb_offset\u001b[49m\u001b[43m,\u001b[49m\u001b[43m \u001b[49m\u001b[43mnumber_of_lines_of_context\u001b[49m\u001b[43m)\u001b[49m\n",
      "File \u001b[0;32m~/Workspace/rahayel-etal/env/lib/python3.10/site-packages/IPython/core/ultratb.py:1177\u001b[0m, in \u001b[0;36mFormattedTB.structured_traceback\u001b[0;34m(self, etype, value, tb, tb_offset, number_of_lines_of_context)\u001b[0m\n\u001b[1;32m   1174\u001b[0m mode \u001b[38;5;241m=\u001b[39m \u001b[38;5;28mself\u001b[39m\u001b[38;5;241m.\u001b[39mmode\n\u001b[1;32m   1175\u001b[0m \u001b[38;5;28;01mif\u001b[39;00m mode \u001b[38;5;129;01min\u001b[39;00m \u001b[38;5;28mself\u001b[39m\u001b[38;5;241m.\u001b[39mverbose_modes:\n\u001b[1;32m   1176\u001b[0m     \u001b[38;5;66;03m# Verbose modes need a full traceback\u001b[39;00m\n\u001b[0;32m-> 1177\u001b[0m     \u001b[38;5;28;01mreturn\u001b[39;00m \u001b[43mVerboseTB\u001b[49m\u001b[38;5;241;43m.\u001b[39;49m\u001b[43mstructured_traceback\u001b[49m\u001b[43m(\u001b[49m\n\u001b[1;32m   1178\u001b[0m \u001b[43m        \u001b[49m\u001b[38;5;28;43mself\u001b[39;49m\u001b[43m,\u001b[49m\u001b[43m \u001b[49m\u001b[43metype\u001b[49m\u001b[43m,\u001b[49m\u001b[43m \u001b[49m\u001b[43mvalue\u001b[49m\u001b[43m,\u001b[49m\u001b[43m \u001b[49m\u001b[43mtb\u001b[49m\u001b[43m,\u001b[49m\u001b[43m \u001b[49m\u001b[43mtb_offset\u001b[49m\u001b[43m,\u001b[49m\u001b[43m \u001b[49m\u001b[43mnumber_of_lines_of_context\u001b[49m\n\u001b[1;32m   1179\u001b[0m \u001b[43m    \u001b[49m\u001b[43m)\u001b[49m\n\u001b[1;32m   1180\u001b[0m \u001b[38;5;28;01melif\u001b[39;00m mode \u001b[38;5;241m==\u001b[39m \u001b[38;5;124m'\u001b[39m\u001b[38;5;124mMinimal\u001b[39m\u001b[38;5;124m'\u001b[39m:\n\u001b[1;32m   1181\u001b[0m     \u001b[38;5;28;01mreturn\u001b[39;00m ListTB\u001b[38;5;241m.\u001b[39mget_exception_only(\u001b[38;5;28mself\u001b[39m, etype, value)\n",
      "File \u001b[0;32m~/Workspace/rahayel-etal/env/lib/python3.10/site-packages/IPython/core/ultratb.py:1030\u001b[0m, in \u001b[0;36mVerboseTB.structured_traceback\u001b[0;34m(self, etype, evalue, etb, tb_offset, number_of_lines_of_context)\u001b[0m\n\u001b[1;32m   1021\u001b[0m \u001b[38;5;28;01mdef\u001b[39;00m \u001b[38;5;21mstructured_traceback\u001b[39m(\n\u001b[1;32m   1022\u001b[0m     \u001b[38;5;28mself\u001b[39m,\n\u001b[1;32m   1023\u001b[0m     etype: \u001b[38;5;28mtype\u001b[39m,\n\u001b[0;32m   (...)\u001b[0m\n\u001b[1;32m   1027\u001b[0m     number_of_lines_of_context: \u001b[38;5;28mint\u001b[39m \u001b[38;5;241m=\u001b[39m \u001b[38;5;241m5\u001b[39m,\n\u001b[1;32m   1028\u001b[0m ):\n\u001b[1;32m   1029\u001b[0m \u001b[38;5;250m    \u001b[39m\u001b[38;5;124;03m\"\"\"Return a nice text document describing the traceback.\"\"\"\u001b[39;00m\n\u001b[0;32m-> 1030\u001b[0m     formatted_exception \u001b[38;5;241m=\u001b[39m \u001b[38;5;28;43mself\u001b[39;49m\u001b[38;5;241;43m.\u001b[39;49m\u001b[43mformat_exception_as_a_whole\u001b[49m\u001b[43m(\u001b[49m\u001b[43metype\u001b[49m\u001b[43m,\u001b[49m\u001b[43m \u001b[49m\u001b[43mevalue\u001b[49m\u001b[43m,\u001b[49m\u001b[43m \u001b[49m\u001b[43metb\u001b[49m\u001b[43m,\u001b[49m\u001b[43m \u001b[49m\u001b[43mnumber_of_lines_of_context\u001b[49m\u001b[43m,\u001b[49m\n\u001b[1;32m   1031\u001b[0m \u001b[43m                                                           \u001b[49m\u001b[43mtb_offset\u001b[49m\u001b[43m)\u001b[49m\n\u001b[1;32m   1033\u001b[0m     colors \u001b[38;5;241m=\u001b[39m \u001b[38;5;28mself\u001b[39m\u001b[38;5;241m.\u001b[39mColors  \u001b[38;5;66;03m# just a shorthand + quicker name lookup\u001b[39;00m\n\u001b[1;32m   1034\u001b[0m     colorsnormal \u001b[38;5;241m=\u001b[39m colors\u001b[38;5;241m.\u001b[39mNormal  \u001b[38;5;66;03m# used a lot\u001b[39;00m\n",
      "File \u001b[0;32m~/Workspace/rahayel-etal/env/lib/python3.10/site-packages/IPython/core/ultratb.py:935\u001b[0m, in \u001b[0;36mVerboseTB.format_exception_as_a_whole\u001b[0;34m(self, etype, evalue, etb, number_of_lines_of_context, tb_offset)\u001b[0m\n\u001b[1;32m    932\u001b[0m \u001b[38;5;28;01massert\u001b[39;00m \u001b[38;5;28misinstance\u001b[39m(tb_offset, \u001b[38;5;28mint\u001b[39m)\n\u001b[1;32m    933\u001b[0m head \u001b[38;5;241m=\u001b[39m \u001b[38;5;28mself\u001b[39m\u001b[38;5;241m.\u001b[39mprepare_header(etype, \u001b[38;5;28mself\u001b[39m\u001b[38;5;241m.\u001b[39mlong_header)\n\u001b[1;32m    934\u001b[0m records \u001b[38;5;241m=\u001b[39m (\n\u001b[0;32m--> 935\u001b[0m     \u001b[38;5;28;43mself\u001b[39;49m\u001b[38;5;241;43m.\u001b[39;49m\u001b[43mget_records\u001b[49m\u001b[43m(\u001b[49m\u001b[43metb\u001b[49m\u001b[43m,\u001b[49m\u001b[43m \u001b[49m\u001b[43mnumber_of_lines_of_context\u001b[49m\u001b[43m,\u001b[49m\u001b[43m \u001b[49m\u001b[43mtb_offset\u001b[49m\u001b[43m)\u001b[49m \u001b[38;5;28;01mif\u001b[39;00m etb \u001b[38;5;28;01melse\u001b[39;00m []\n\u001b[1;32m    936\u001b[0m )\n\u001b[1;32m    938\u001b[0m frames \u001b[38;5;241m=\u001b[39m []\n\u001b[1;32m    939\u001b[0m skipped \u001b[38;5;241m=\u001b[39m \u001b[38;5;241m0\u001b[39m\n",
      "File \u001b[0;32m~/Workspace/rahayel-etal/env/lib/python3.10/site-packages/IPython/core/ultratb.py:1002\u001b[0m, in \u001b[0;36mVerboseTB.get_records\u001b[0;34m(self, etb, number_of_lines_of_context, tb_offset)\u001b[0m\n\u001b[1;32m   1000\u001b[0m tbs \u001b[38;5;241m=\u001b[39m []\n\u001b[1;32m   1001\u001b[0m \u001b[38;5;28;01mwhile\u001b[39;00m cf \u001b[38;5;129;01mis\u001b[39;00m \u001b[38;5;129;01mnot\u001b[39;00m \u001b[38;5;28;01mNone\u001b[39;00m:\n\u001b[0;32m-> 1002\u001b[0m     source_file \u001b[38;5;241m=\u001b[39m inspect\u001b[38;5;241m.\u001b[39mgetsourcefile(\u001b[43metb\u001b[49m\u001b[38;5;241;43m.\u001b[39;49m\u001b[43mtb_frame\u001b[49m)\n\u001b[1;32m   1003\u001b[0m     lines, first \u001b[38;5;241m=\u001b[39m inspect\u001b[38;5;241m.\u001b[39mgetsourcelines(etb\u001b[38;5;241m.\u001b[39mtb_frame)\n\u001b[1;32m   1004\u001b[0m     max_len \u001b[38;5;241m=\u001b[39m \u001b[38;5;28mmax\u001b[39m(max_len, first \u001b[38;5;241m+\u001b[39m \u001b[38;5;28mlen\u001b[39m(lines))\n",
      "\u001b[0;31mAttributeError\u001b[0m: 'tuple' object has no attribute 'tb_frame'"
     ]
    }
   ],
   "source": [
    "required_files = [\n",
    "    \"Demographics.csv\",\n",
    "    \"REM_Sleep_Behavior_Disorder_Questionnaire.csv\",\n",
    "    \"Primary_Clinical_Diagnosis.csv\",\n",
    "    \"Cognitive_Categorization.csv\",\n",
    "    \"Medical_Conditions_Log.csv\",\n",
    "    \"Concomitant_Medication_Log.csv\",\n",
    "    \"Prodromal_History.csv\",\n",
    "    \"Montreal_Cognitive_Assessment__MoCA_.csv\",\n",
    "    \"Socio-Economics.csv\",\n",
    "    \"Vital_Signs.csv\"\n",
    "]\n",
    "\n",
    "utils.download_ppmi_metadata(required_files, headless=False)"
   ]
  },
  {
   "cell_type": "markdown",
   "id": "a38c6b31",
   "metadata": {},
   "source": [
    "We will also need file `MRI_info.csv` produced by another LivingPark notebook available at https://github.com/LivingPark-MRI/livingpark-utils/blob/main/livingpark_utils/notebooks/mri_metadata.ipynb. This file contains a list of T1-weighted MRIs usable for VBM. "
   ]
  },
  {
   "cell_type": "code",
   "execution_count": 4,
   "id": "e5b1b346",
   "metadata": {},
   "outputs": [],
   "source": [
    "# %%capture\n",
    "# from livingpark_utils.scripts import (\n",
    "#     mri_metadata,\n",
    "#     pd_status,\n",
    "# )"
   ]
  },
  {
   "cell_type": "markdown",
   "id": "fd486279",
   "metadata": {},
   "source": [
    "### RBD Score computation\n",
    "\n",
    "The original study used polysomnography to diagnose REM Sleep Behavior Disorder. \n",
    "\n",
    "While polysomnography is available in the PPMI prodromal cohort, as of July 2022 the number of subjects matching the inclusion/exclusion criteria in this cohort is not enough to replicate the original study (see also Section \"Inclusion criteria\").\n",
    "\n",
    "Instead, we will use the REM Sleep Behavior Disorder Screening Questionnaire (RSBDSQ) [[1]](https://movementdisorders.onlinelibrary.wiley.com/doi/10.1002/mds.21740) to discriminate RBD patients from controls. This questionnaire consists of 13 yes/no questions that are summed to produce an RBD score. We computed the RBD score by summing the answers to each of the 13 questions. The answers to questions Q1 to Q9 (12 questions as Q6 is sub-divided in 4 parts) are directly availble in the RSBDSQ Study Data file. We computed the answer to Q10 (\"I have/had a disease of the nervous system (e.g., stroke, head trauma, parkinsonism, RLS, narcolepsy, depression, epilepsy, inflammatory disease of the brain), which?\") by taking the max of the 8 corresponding disease variables in the RSBDSQ Study Data file. We also computed the answer to Q6 as the sum of Q6.1 to Q6.4 as it will use as inclusion criterion for controls.\n",
    "\n",
    "Update: There are enough polysomnography subjects now."
   ]
  },
  {
   "cell_type": "markdown",
   "id": "005b78ee",
   "metadata": {},
   "source": [
    "We obtain the following distribution of RBD scores in the PPMI dataset:"
   ]
  },
  {
   "cell_type": "code",
   "execution_count": 8,
   "id": "0cb1abee",
   "metadata": {},
   "outputs": [
    {
     "data": {
      "image/png": "[encoded data removed]",
      "text/plain": [
       "<Figure size 640x480 with 1 Axes>"
      ]
     },
     "metadata": {},
     "output_type": "display_data"
    }
   ],
   "source": [
    "import os\n",
    "import pandas as pd\n",
    "\n",
    "# Load PPMI RSBDQ data\n",
    "rbdsq = pd.read_csv(\n",
    "    os.path.join(utils.study_files_dir, \"REM_Sleep_Behavior_Disorder_Questionnaire.csv\")\n",
    ")\n",
    "\n",
    "# Compute RBDSQ score\n",
    "rbdsq[\"RBDSQ\"] = (\n",
    "    rbdsq[\"DRMVIVID\"]  # Q1\n",
    "    + rbdsq[\"DRMAGRAC\"]  # Q2\n",
    "    + rbdsq[\"DRMNOCTB\"]  # Q3\n",
    "    + rbdsq[\"SLPLMBMV\"]  # Q4\n",
    "    + rbdsq[\"SLPINJUR\"]  # Q5\n",
    "    + rbdsq[\"DRMVERBL\"]  # Q6.1\n",
    "    + rbdsq[\"DRMFIGHT\"]  # Q6.2\n",
    "    + rbdsq[\"DRMUMV\"]  # Q6.3\n",
    "    + rbdsq[\"DRMOBJFL\"]  # Q6.4\n",
    "    + rbdsq[\"MVAWAKEN\"]  # Q7\n",
    "    + rbdsq[\"DRMREMEM\"]  # Q8\n",
    "    + rbdsq[\"SLPDSTRB\"]  # Q9\n",
    "    + rbdsq[  # Q10\n",
    "        [\n",
    "            \"BRNINFM\",\n",
    "            \"DEPRS\",\n",
    "            \"EPILEPSY\",\n",
    "            \"HETRA\",\n",
    "            \"NARCLPSY\",\n",
    "            \"PARKISM\",\n",
    "            \"RLS\",\n",
    "            \"STROKE\",\n",
    "        ]\n",
    "    ].max(axis=1)\n",
    ")\n",
    "\n",
    "rbdsq[\"Q6\"] = (\n",
    "    rbdsq[\"DRMVERBL\"] + rbdsq[\"DRMFIGHT\"] + rbdsq[\"DRMUMV\"] + rbdsq[\"DRMOBJFL\"]\n",
    ")\n",
    "\n",
    "# Note: CNSOTHCM isn't present in data\n",
    "\n",
    "# Check that max RBDSQ score is <= 13\n",
    "assert rbdsq[\"RBDSQ\"].max() <= 13\n",
    "\n",
    "rbdsq = rbdsq[[\"PATNO\", \"EVENT_ID\", \"Q6\", \"RBDSQ\", \"STROKE\", \"EPILEPSY\"]]\n",
    "\n",
    "rbdsq.groupby(\"RBDSQ\").count()[\"PATNO\"].plot.bar()\n",
    "\n",
    "from matplotlib import pyplot as plt\n",
    "\n",
    "plt.ylabel(\"Number of records\")\n",
    "plt.show()"
   ]
  },
  {
   "cell_type": "markdown",
   "id": "bfd35ab8",
   "metadata": {},
   "source": [
    "### Inclusion criteria\n",
    "\n",
    "To replicate the cohort in the original study, we used the following inclusion and exclusion criteria among PPMI subjects.\n",
    "\n",
    "- Inclusion\n",
    "    - RBD Group\n",
    "        1. If not enough subjects with polysomnography, RBD Score >= 5\n",
    "        2. Patients with polysomnography confirmed RBD according to the International Classification of Sleep Disorders\n",
    "        3. T1-weighted MRI available and usable for VBM (see [MRI metadata notebook](https://github.com/LivingPark-MRI/livingpark-utils/blob/main/livingpark_utils/notebooks/mri_metadata.ipynb)).\n",
    "    - Control group\n",
    "        1. RBD Score < 5\n",
    "        2. Score to Q6 of the RSBDSQ is 0.\n",
    "- Exclusion\n",
    "    - Participants with a history of:\n",
    "        - parkinsonism -> PRIMDIAG = 17 (no PD nor other neurological disorder) or PRIMDIAG = 25 (prodromal) \n",
    "        - dementia -> COGSTATE = 3\n",
    "        - stroke -> REMSLEEP\n",
    "        - head trauma\n",
    "        - brain injury\n",
    "        - unstable hypertension or diabetes -> Concomittent log - CMINDC - 14 (hypertension) - 11 (diabetes)\n",
    "        - chronic obstructive pulmonary disease -> MHCAT 105 - 1G\n",
    "        - claustrophobia\n",
    "        - EEG abnormalities suggesting epilepsy -> REMSLEEP\n",
    "        - encephalitis\n",
    "        - or any other neurologic disorders -> MHCAT 114 - 1P + PRIMDIAG 17 or 97\n",
    "        - or with artifacts on brain scans\n",
    "\n",
    "\n",
    "In case multiple visits of a given subject are included in the RBD or Control group, we randomly select one of them for inclusion in the group and exclude the other ones. This selection ensures that a given subject is included at most once in the RBD group and at most once in the control group. In Section \"Cohort matching\", we will ensure that a given subjet is included in at most one group. \n",
    "\n",
    "We obtain the following group sizes:\n",
    "\n",
    "<!-- and a cutoff score of 6 to identify RBD subjects among PD subjects, consistently with the results presented in [[2]](https://www.sciencedirect.com#/science/article/pii/S138994571100164X). -->"
   ]
  },
  {
   "cell_type": "code",
   "execution_count": 9,
   "id": "653c76b6",
   "metadata": {},
   "outputs": [
    {
     "name": "stdout",
     "output_type": "stream",
     "text": [
      "Number of RBD subjects w/ polysomnography w/o MCI: 55\n",
      "Number of RBD subjects w/ polysomnography w/ MCI: 4\n",
      "Number of RBD subjects w/ RBD Score computation w/o MCI: 128\n",
      "Number of RBD subjects w/ RBD Score computation w/ MCI: 11\n",
      "Number of control subjects: 220\n",
      "\n",
      "We have enough RBD subjects with polysomnography to use in this replication.\n"
     ]
    }
   ],
   "source": [
    "# Read data files\n",
    "\n",
    "# TODO: FM-100, Domain Sub type, handedness (HANDED\tSCREEN), Tonic activity (REM Sleep)\n",
    "\n",
    "# Tonic - means that muscle contains mostly slow-contraction, long-duralibity fibers. These mucles have tendency to over-tension and to shorten (for example in spasticity). \n",
    "# Phasic - means that muscle contains mostly quick-contraction, hi-power, short-duralibity fibers.\n",
    "\n",
    "# Blood pressure\n",
    "# was measured manually in supine position and after standing\n",
    "# for 1 minute, and systolic blood pressure drop was calculated\n",
    "# by subtracting supine from the standing measure\n",
    "\n",
    "# Prodromal history\n",
    "prodr_hist = pd.read_csv(os.path.join(utils.study_files_dir, 'Prodromal_History.csv'))[[\"PATNO\", \"RBDDIAG\", \"RBDPSG\"]]\n",
    "\n",
    "# MRI info\n",
    "mri = pd.read_csv(os.path.join(utils.study_files_dir, \"MRI_info.csv\"))[\n",
    "    [\"Subject ID\", \"Visit code\", \"Description\", \"Age\"]\n",
    "]\n",
    "mri.rename(columns={\"Subject ID\": \"PATNO\", \"Visit code\": \"EVENT_ID\"}, inplace=True)\n",
    "\n",
    "# Demographics\n",
    "dem = pd.read_csv(os.path.join(utils.study_files_dir, \"Demographics.csv\"))[[\"PATNO\", \"SEX\"]]\n",
    "\n",
    "# Education\n",
    "edu = pd.read_csv(os.path.join(utils.study_files_dir, \"Socio-Economics.csv\"))[[\"PATNO\", \"EDUCYRS\"]]\n",
    "\n",
    "# Diagnosis\n",
    "diag = pd.read_csv(os.path.join(utils.study_files_dir, \"Primary_Clinical_Diagnosis.csv\"))[\n",
    "    [\"PATNO\", \"EVENT_ID\", \"PRIMDIAG\", \"OTHNEURO\"]\n",
    "]\n",
    "\n",
    "# Vital Signs\n",
    "vital = pd.read_csv(os.path.join(utils.study_files_dir, \"Vital_Signs.csv\"))[[\"PATNO\", \"SYSSTND\", \"SYSSUP\"]]\n",
    "vital[\"SYSDROP\"] = vital[\"SYSSUP\"] - vital[\"SYSSTND\"]\n",
    "\n",
    "# Cognitive Categorization\n",
    "cog_cat = pd.read_csv(os.path.join(utils.study_files_dir, \"Cognitive_Categorization.csv\"))[\n",
    "    [\"PATNO\", \"EVENT_ID\", \"COGSTATE\"]\n",
    "]\n",
    "\n",
    "# Medical condition\n",
    "med_cond = pd.read_csv(os.path.join(utils.study_files_dir, \"Medical_Conditions_Log.csv\"))[\n",
    "    [\"PATNO\", \"EVENT_ID\", \"MHCAT\"]\n",
    "].groupby(['PATNO', 'EVENT_ID'])[['MHCAT']].aggregate(lambda x: tuple(set(x))) # aggregate all codes in a tuple\n",
    "\n",
    "# Medication\n",
    "meds = pd.read_csv(os.path.join(utils.study_files_dir, \"Concomitant_Medication_Log.csv\"))[\n",
    "    [\"PATNO\", \"EVENT_ID\", \"CMTRT\", \"CMINDC\"]\n",
    "].groupby(['PATNO', 'EVENT_ID'])[['CMTRT', 'CMINDC']].aggregate(lambda x: tuple(x)) # aggregate all meds in a tuple\n",
    "\n",
    "# MoCA TODO: Screening vs baseline?\n",
    "moca = pd.read_csv(\n",
    "    os.path.join(utils.study_files_dir, \"Montreal_Cognitive_Assessment__MoCA_.csv\")\n",
    ")[[\"PATNO\", \"EVENT_ID\", \"MCATOT\", \"INFODT\"]]\n",
    "# MoCA - Use screening instead of baseline.\n",
    "moca = moca[moca[\"EVENT_ID\"] != \"BL\"]\n",
    "moca[\"EVENT_ID\"].mask(moca[\"EVENT_ID\"] == \"SC\", \"BL\", inplace=True)\n",
    "\n",
    "# Clean UPDRS file. Impute missing ON/OFF values.\n",
    "# It produces MDS_UPDRS_Part_III_clean.csv file\n",
    "# from livingpark_utils.scripts import pd_status\n",
    "\n",
    "updrs = pd.read_csv(\n",
    "    os.path.join(utils.study_files_dir, \"MDS_UPDRS_Part_III_clean.csv\")\n",
    ")[[\"PATNO\", \"EVENT_ID\", \"NP3TOT\"]]\n",
    "\n",
    "def included(subjects, with_mci=False):\n",
    "    '''\n",
    "    Return subjects complying to the inclusion criteria mentioned before.\n",
    "    \n",
    "    Parameters\n",
    "    ----------\n",
    "    subjects: DataFrame. Has to contain columns PATNO and EVENT_ID and PRIMDIAG\n",
    "    '''\n",
    "    temp =  (\n",
    "        subjects.merge(dem, on=\"PATNO\", how=\"inner\") # Sex is available\n",
    "             .merge(diag[diag['PRIMDIAG'].isin([17, 25])], on=[\"PATNO\", \"EVENT_ID\"], how=\"inner\") # Subject is healthy or prodromal\n",
    "             .merge(mri, on=[\"PATNO\", \"EVENT_ID\"], how=\"inner\")  # MRI usable for VBM is available\n",
    "             .merge(cog_cat[cog_cat[\"COGSTATE\"] == 2 if with_mci else cog_cat[\"COGSTATE\"] == 1], how=\"inner\", on=[\"PATNO\", \"EVENT_ID\"])  # No dementia - with MCI or without MCI\n",
    "             .merge(med_cond, on=[\"PATNO\", \"EVENT_ID\"], how=\"left\")\n",
    "             .merge(meds, on=[\"PATNO\", \"EVENT_ID\"], how=\"left\")\n",
    "            .merge(edu, on=[\"PATNO\"], how=\"left\")\n",
    "            .merge(moca, on=[\"PATNO\", \"EVENT_ID\"], how=\"left\")\n",
    "            .merge(vital, on=[\"PATNO\"], how=\"left\")\n",
    "            .merge(updrs, on=[\"PATNO\", \"EVENT_ID\"], how=\"left\")\n",
    "                 [\n",
    "                    [\n",
    "                        \"PATNO\",\n",
    "                        \"EVENT_ID\",\n",
    "                        \"RBDSQ\",\n",
    "                        \"Q6\",\n",
    "                        \"SEX\",\n",
    "                        \"Age\",\n",
    "                        \"Description\",\n",
    "                        \"PRIMDIAG\",\n",
    "                        \"COGSTATE\",\n",
    "                        \"MHCAT\",\n",
    "                        \"CMTRT\",\n",
    "                        \"CMINDC\",\n",
    "                        \"EDUCYRS\",\n",
    "                        \"MCATOT\",\n",
    "                        \"SYSDROP\",\n",
    "                        \"NP3TOT\"\n",
    "                    ]\n",
    "                ]\n",
    "            )\n",
    "    \n",
    "    # Check medical condition and return\n",
    "    def check_mhcat(x):\n",
    "        import numpy as np\n",
    "        if type(x) == tuple:\n",
    "            # no neurologic disorders or chronic obstructive pulmonary disease\n",
    "            return not (\"1P\" in x or \"1G\" in x)\n",
    "        else:\n",
    "            return np.isnan(x)\n",
    "        \n",
    "    # Check concomitant medication log indication and return\n",
    "    def check_indication(x):\n",
    "        import numpy as np\n",
    "        if type(x) == tuple:\n",
    "            # no hypertension or diabetes\n",
    "            return not (14 in x or 11 in x)\n",
    "        else:\n",
    "            return np.isnan(x)\n",
    "        \n",
    "    return temp[\n",
    "                (temp[\"MHCAT\"].apply(check_mhcat)) \n",
    "                & (temp[\"CMINDC\"].apply(check_indication)) \n",
    "#                 & (temp[\"MCATOT\"].notnull())\n",
    "               ]  # No neurological or psychiatric illness and no evidence of central nervous system (CNS) comorbidities\n",
    "\n",
    "# Extract RBD subjects and controls according to inclusion criteria\n",
    "# Sample one entry (event and T1 description) per subject in each group so that a subject happens at most once in a group (between-group consistency will be ensured in cohort matching)\n",
    "# Sort entries by PATNO to improve reproducibility of this notebook\n",
    "    \n",
    "# RBD with Polynosomgraphy\n",
    "rbds_poly_mci =  included((prodr_hist[(prodr_hist['RBDDIAG']==1) & (prodr_hist['RBDPSG']==1)].merge(rbdsq, on=\"PATNO\", how=\"inner\")), True)\n",
    "if len(rbds_poly_mci) !=0 : \n",
    "    rbds_poly_mci = (rbds_poly_mci.groupby(\"PATNO\")\n",
    "    .sample(1, random_state=random_seed)\n",
    "    .sort_values(by=\"PATNO\"))\n",
    "    \n",
    "rbds_poly_wo_mci =  included((prodr_hist[(prodr_hist['RBDDIAG']==1) & (prodr_hist['RBDPSG']==1)].merge(rbdsq, on=\"PATNO\", how=\"inner\")))\n",
    "if len(rbds_poly_wo_mci) !=0 : \n",
    "    rbds_poly_wo_mci = (rbds_poly_wo_mci.groupby(\"PATNO\")\n",
    "    .sample(1, random_state=random_seed)\n",
    "    .sort_values(by=\"PATNO\"))\n",
    "    \n",
    "# RBD with SQ\n",
    "rbds_sq_mci = (included(rbdsq[(rbdsq[\"RBDSQ\"] >= 5) & (rbdsq[\"STROKE\"] == 0) & (rbdsq[\"EPILEPSY\"] == 0)], True).groupby(\"PATNO\")\n",
    "    .sample(1, random_state=random_seed)\n",
    "    .sort_values(by=\"PATNO\"))\n",
    "rbds_sq_wo_mci = (included(rbdsq[(rbdsq[\"RBDSQ\"] >= 5) & (rbdsq[\"STROKE\"] == 0) & (rbdsq[\"EPILEPSY\"] == 0)]).groupby(\"PATNO\")\n",
    "    .sample(1, random_state=random_seed)\n",
    "    .sort_values(by=\"PATNO\"))\n",
    "\n",
    "# Controls\n",
    "controls = (included(rbdsq[(rbdsq[\"RBDSQ\"] < 5) & (rbdsq[\"Q6\"] == 0) & (rbdsq[\"STROKE\"] == 0) & (rbdsq[\"EPILEPSY\"] == 0)]).groupby(\"PATNO\")\n",
    "    .sample(1, random_state=random_seed)\n",
    "    .sort_values(by=\"PATNO\"))\n",
    "\n",
    "print(f\"Number of RBD subjects w/ polysomnography w/o MCI: {len(rbds_poly_wo_mci)}\")\n",
    "print(f\"Number of RBD subjects w/ polysomnography w/ MCI: {len(rbds_poly_mci)}\")\n",
    "print(f\"Number of RBD subjects w/ RBD Score computation w/o MCI: {len(rbds_sq_wo_mci['PATNO'])}\")\n",
    "print(f\"Number of RBD subjects w/ RBD Score computation w/ MCI: {len(rbds_sq_mci['PATNO'])}\")\n",
    "print(f\"Number of control subjects: {len(controls['PATNO'])}\")\n",
    "print()\n",
    "\n",
    "if len(rbds_poly_wo_mci) + len(rbds_poly_mci) < 52:\n",
    "    print(\"We don't have enough RBD subjects with polysomnography. Let's use RBD subjects without polysomnography in this replication.\")\n",
    "    rbds = rbds_sq_mci + rbds_sq_wo_mci\n",
    "else:\n",
    "    print(\"We have enough RBD subjects with polysomnography to use in this replication.\")\n",
    "    rbds = rbds_poly_mci + rbds_poly_wo_mci"
   ]
  },
  {
   "cell_type": "markdown",
   "id": "8a0d10ec",
   "metadata": {},
   "source": [
    "### Cohort matching"
   ]
  },
  {
   "cell_type": "markdown",
   "id": "66ac2b7c",
   "metadata": {},
   "source": [
    "While the RBD group has a good number of subjects without MCI, it lacks subjects with MCI. So we will not be able to reproduce the ratio of subjects with MCI and non MCI.\n",
    "\n",
    "On the other hand, the Control group built previously give us a lot of flexibility to build a cohort that matches the one in the original study, due to their large sample size compared to the original cohort. We adopted the following approach to construct a matching cohort:\n",
    "\n",
    "1. Randomly select 16 control women and 25 control men, to reproduce the F/M balance in the original study\n",
    "2. Find 48 subjects from the RBD group without MCI that best match age and sex in the selected control group. We matched sex by direct sampling of males and females using the same proportion as in the original study. We matched age using a nearest-neighbor approach.\n",
    "\n",
    "<!-- ---\n",
    "\n",
    "- controls 61% men - 25 | 65.5 (6.6) \n",
    "- RBD 81% men - 42 | 67.9 (4.4) \n",
    "- RBD w MCI 71% men - 12 | 64.4 (7.2)\n",
    "- RBC wo MCI 86% men - 30 | 63.2 (8.2)\n",
    "\n",
    "--- -->\n",
    "\n",
    "We obtain the following cohort:"
   ]
  },
  {
   "cell_type": "code",
   "execution_count": 10,
   "id": "f34cab79",
   "metadata": {},
   "outputs": [],
   "source": [
    "def nn_match(sample1, df_2, n2, cat_variables, num_variables, random_state=random_seed):\n",
    "    \"\"\"\n",
    "    Find len(sample1) rows in df_2 such that variables are matched with sample1.\n",
    "\n",
    "    sample1: samples in group1\n",
    "    df_2: dataframe with subjects in group 2\n",
    "    n2: desired sample size for group 2\n",
    "    cat_variables: categorical variables to match\n",
    "    num_variables: numerical variables to match\n",
    "    \"\"\"\n",
    "\n",
    "    def nn(x, df, variables):\n",
    "        \"\"\"\n",
    "        Find index of nearest neighbor of x in df\n",
    "\n",
    "        * x: a dataframe row\n",
    "        * df: a dataframe\n",
    "        * variables: variables to match. Should be normalized.\n",
    "        \"\"\"\n",
    "        df[\"dist\"] = sum((df[var] - x[var]) ** 2 for var in variables)\n",
    "        df.sort_values(\"dist\", inplace=True)\n",
    "        return df.head(1).index[\n",
    "            0\n",
    "        ]  ## there's probably a better way to do it but it works\n",
    "\n",
    "    # Check assumptions\n",
    "    n1 = len(sample1)\n",
    "#     assert n1 <= n2\n",
    "    for v in num_variables + cat_variables:\n",
    "        assert v in sample1 and v in df_2\n",
    "\n",
    "    # Copy original dataframe to leave it untouched\n",
    "    df_2_ = df_2.copy()\n",
    "    sample1_ = sample1.copy()\n",
    "\n",
    "    # Remove from df_2 all subjects that are in sample1\n",
    "    df_2_ = df_2_[~df_2_[\"PATNO\"].isin(sample1[\"PATNO\"])]\n",
    "\n",
    "    # Normalize variables to match to compute meaningful distances\n",
    "    for v in num_variables:\n",
    "        m = df_2_[v].mean()\n",
    "        s = df_2_[v].std()\n",
    "        for df in (df_2_, sample1_):\n",
    "            df[v] = (df[v] - m) / s\n",
    "\n",
    "    # For each subject in sampled group 1,\n",
    "    # find one or more subject in sampled group 2, without replacement.\n",
    "    indices = []\n",
    "    for i in range(n2):\n",
    "        j = i % n1  # loop over sample1\n",
    "        df_2_cat = df_2_.copy()\n",
    "        for c in cat_variables:\n",
    "            if len(df_2_cat[df_2_cat[c] == sample1_.iloc[j][c]]) > 0:\n",
    "                df_2_cat = df_2_cat[df_2_cat[c] == sample1_.iloc[j][c]]\n",
    "            else:\n",
    "                print(\n",
    "                    f\"Warning: cannot find subject with {c}=={sample1_.iloc[j][c]} in sample 2. Removing constraint.\"\n",
    "                )\n",
    "        index = nn(sample1_.iloc[j], df_2_cat, num_variables)\n",
    "        df_2_.drop(index=index, inplace=True)\n",
    "        indices.append(index)\n",
    "\n",
    "    sample2 = df_2[df_2.index.isin(indices)]\n",
    "\n",
    "    return sample2"
   ]
  },
  {
   "cell_type": "code",
   "execution_count": 11,
   "id": "7653bc26",
   "metadata": {},
   "outputs": [
    {
     "name": "stdout",
     "output_type": "stream",
     "text": [
      "Warning: cannot find subject with SEX==0 in sample 2. Removing constraint.\n",
      "Warning: cannot find subject with SEX==0 in sample 2. Removing constraint.\n",
      "Warning: cannot find subject with SEX==0 in sample 2. Removing constraint.\n",
      "Warning: cannot find subject with SEX==0 in sample 2. Removing constraint.\n",
      "Warning: cannot find subject with SEX==0 in sample 2. Removing constraint.\n",
      "Warning: cannot find subject with SEX==0 in sample 2. Removing constraint.\n",
      "Warning: cannot find subject with SEX==0 in sample 2. Removing constraint.\n"
     ]
    }
   ],
   "source": [
    "# Randomly select 16 control women and 25 control men, to reproduce F/M balance in original paper\n",
    "controls = pd.concat(\n",
    "    [\n",
    "        controls[controls[\"SEX\"] == 0].sample(\n",
    "            n=16, random_state=random_seed\n",
    "        ),\n",
    "        controls[controls[\"SEX\"] == 1].sample(n=25, random_state=random_seed),\n",
    "    ]\n",
    ")\n",
    "\n",
    "# Match with RBD subjects\n",
    "rbds_poly_wo_mci = nn_match(controls, rbds_poly_wo_mci, 35, [\"SEX\"], [\"Age\"], random_state=random_seed)"
   ]
  },
  {
   "cell_type": "code",
   "execution_count": 12,
   "id": "0c146397",
   "metadata": {},
   "outputs": [
    {
     "data": {
      "text/html": [
       "<div>\n",
       "<style scoped>\n",
       "    .dataframe tbody tr th:only-of-type {\n",
       "        vertical-align: middle;\n",
       "    }\n",
       "\n",
       "    .dataframe tbody tr th {\n",
       "        vertical-align: top;\n",
       "    }\n",
       "\n",
       "    .dataframe thead th {\n",
       "        text-align: right;\n",
       "    }\n",
       "</style>\n",
       "<table border=\"1\" class=\"dataframe\">\n",
       "  <thead>\n",
       "    <tr style=\"text-align: right;\">\n",
       "      <th></th>\n",
       "      <th>RBD Patients w/ MCI</th>\n",
       "      <th>RBD Patients w/o MCI</th>\n",
       "      <th>Controls</th>\n",
       "    </tr>\n",
       "  </thead>\n",
       "  <tbody>\n",
       "    <tr>\n",
       "      <th>Subjects, No.</th>\n",
       "      <td>4</td>\n",
       "      <td>35</td>\n",
       "      <td>41</td>\n",
       "    </tr>\n",
       "    <tr>\n",
       "      <th>F/M, No.</th>\n",
       "      <td>2/2</td>\n",
       "      <td>9/26</td>\n",
       "      <td>16/25</td>\n",
       "    </tr>\n",
       "    <tr>\n",
       "      <th>Age, mean +/- SD</th>\n",
       "      <td>66.4 +/- 3.7</td>\n",
       "      <td>66.4 +/- 7.0</td>\n",
       "      <td>63.9 +/- 8.3</td>\n",
       "    </tr>\n",
       "  </tbody>\n",
       "</table>\n",
       "</div>"
      ],
      "text/plain": [
       "                 RBD Patients w/ MCI RBD Patients w/o MCI      Controls\n",
       "Subjects, No.                      4                   35            41\n",
       "F/M, No.                         2/2                 9/26         16/25\n",
       "Age, mean +/- SD        66.4 +/- 3.7         66.4 +/- 7.0  63.9 +/- 8.3"
      ]
     },
     "execution_count": 12,
     "metadata": {},
     "output_type": "execute_result"
    }
   ],
   "source": [
    "import os\n",
    "\n",
    "cohort_stats = pd.DataFrame(columns=[\"RBD Patients w/ MCI\", \"RBD Patients w/o MCI\", \"Controls\"])\n",
    "\n",
    "cohort_stats.loc[\"Subjects, No.\"] = [len(rbds_poly_mci), len(rbds_poly_wo_mci), len(controls)]\n",
    "cohort_stats.loc[\"F/M, No.\"] = [\n",
    "    f\"{len(rbds_poly_mci[rbds_poly_mci['SEX']==0])}/{len(rbds_poly_mci[rbds_poly_mci['SEX']==1])}\",\n",
    "    f\"{len(rbds_poly_wo_mci[rbds_poly_wo_mci['SEX']==0])}/{len(rbds_poly_wo_mci[rbds_poly_wo_mci['SEX']==1])}\",\n",
    "    f\"{len(controls[controls['SEX']==0])}/{len(controls[controls['SEX']==1])}\",\n",
    "]\n",
    "cohort_stats.loc[\"Age, mean +/- SD\"] = [\n",
    "    f\"{round(rbds_poly_mci['Age'].mean(),1)} +/- {round(rbds_poly_mci['Age'].std(),1)}\",\n",
    "    f\"{round(rbds_poly_wo_mci['Age'].mean(),1)} +/- {round(rbds_poly_wo_mci['Age'].std(),1)}\",\n",
    "    f\"{round(controls['Age'].mean(),1)} +/- {round(controls['Age'].std(),1)}\",\n",
    "]\n",
    "\n",
    "cohort_stats"
   ]
  },
  {
   "cell_type": "markdown",
   "id": "05be0cd3",
   "metadata": {},
   "source": [
    "The demographics parameters of the selected PPMI subjects seem comparable to the ones in the initial study. "
   ]
  },
  {
   "cell_type": "markdown",
   "id": "3d65268e",
   "metadata": {},
   "source": [
    "Let's do basic sanity checks in this cohort:\n",
    "* A subject appears at most once in each group\n",
    "* A subject does not appear in more than one group"
   ]
  },
  {
   "cell_type": "code",
   "execution_count": 13,
   "id": "99b96ca9",
   "metadata": {},
   "outputs": [
    {
     "name": "stdout",
     "output_type": "stream",
     "text": [
      "All sanity checks passed.\n"
     ]
    }
   ],
   "source": [
    "assert len(pd.unique(rbds_poly_mci[\"PATNO\"])) == len(\n",
    "    rbds_poly_mci\n",
    "), \"Some subjects are present more than once in RBD MCI group\"\n",
    "assert len(pd.unique(rbds_poly_wo_mci[\"PATNO\"])) == len(\n",
    "    rbds_poly_wo_mci\n",
    "), \"Some subjects are present more than once in RBD Non-MCI group\"\n",
    "assert len(pd.unique(controls[\"PATNO\"])) == len(\n",
    "    controls\n",
    "), \"Some subjects are present more than once in controls\"\n",
    "assert (\n",
    "    len(set(controls[\"PATNO\"]) & set(rbds[\"PATNO\"])) == 0\n",
    "), f'Some subjects are present in controls and rbd group {set(controls[\"PATNO\"]) & set(rbds[\"PATNO\"])}'\n",
    "print(\"All sanity checks passed.\")"
   ]
  },
  {
   "cell_type": "code",
   "execution_count": 14,
   "id": "f114d7b3",
   "metadata": {},
   "outputs": [],
   "source": [
    "# Concatenate both groups in cohort DataFrame\n",
    "rbds_poly_wo_mci[\"group\"] = \"RBD\"\n",
    "rbds_poly_mci[\"group\"] = \"RBD-MCI\"\n",
    "controls[\"group\"] = \"Control\"\n",
    "cohort = pd.concat([rbds_poly_mci, rbds_poly_wo_mci, controls])"
   ]
  },
  {
   "cell_type": "code",
   "execution_count": 15,
   "id": "b764092b",
   "metadata": {},
   "outputs": [],
   "source": [
    "rbds = pd.concat([rbds_poly_mci, rbds_poly_wo_mci], axis=0)"
   ]
  },
  {
   "cell_type": "markdown",
   "id": "0b922fac",
   "metadata": {},
   "source": [
    "Finally, we generate a cohort id that uniquely identifies the cohort built previously. We will use this id to avoid recomputing the same results multiple times:"
   ]
  },
  {
   "cell_type": "code",
   "execution_count": 16,
   "id": "31b51edf",
   "metadata": {},
   "outputs": [
    {
     "name": "stdout",
     "output_type": "stream",
     "text": [
      "Cohort id: _9108317471476340399\n"
     ]
    },
    {
     "name": "stderr",
     "output_type": "stream",
     "text": [
      "/tmp/ipykernel_49168/1802747657.py:1: DeprecationWarning: Call to deprecated function cohort_id.\n",
      "This function will be remove in future version.\n",
      "Moved to module `livingpark_utils.dataset.ppmi`.\n",
      "  cohort_id = utils.cohort_id(cohort)\n"
     ]
    }
   ],
   "source": [
    "cohort_id = utils.cohort_id(cohort)\n",
    "print(f\"Cohort id: {cohort_id}\")"
   ]
  },
  {
   "cell_type": "code",
   "execution_count": 17,
   "id": "788e699b",
   "metadata": {},
   "outputs": [
    {
     "name": "stdout",
     "output_type": "stream",
     "text": [
      "Cohort patient ids saved in rahayel-etal-patnos-_9108317471476340399.csv. Do not share this file publicly!\n"
     ]
    }
   ],
   "source": [
    "# Save patient ids\n",
    "filename = f\"rahayel-etal-patnos-{cohort_id}.csv\"\n",
    "cohort[\"PATNO\"].to_csv(filename, index=False)\n",
    "print(f\"Cohort patient ids saved in {filename}. Do not share this file publicly!\")"
   ]
  },
  {
   "cell_type": "markdown",
   "id": "d488b6a6",
   "metadata": {},
   "source": [
    "The following concommittant medication have been found in the cohort. Make sure that they don't violate the following exclusion criteria from the original paper:\n",
    "\n",
    "No current treatment with medications known to modify REM sleep architecture and muscle tone such as serotonin reuptake inhibitors."
   ]
  },
  {
   "cell_type": "code",
   "execution_count": 18,
   "id": "6b0c267d",
   "metadata": {},
   "outputs": [
    {
     "data": {
      "text/plain": [
       "0"
      ]
     },
     "execution_count": 18,
     "metadata": {},
     "output_type": "execute_result"
    }
   ],
   "source": [
    "len(cohort.groupby(\"CMTRT\").count()[[\"PATNO\"]])"
   ]
  },
  {
   "cell_type": "code",
   "execution_count": 19,
   "id": "d06014fa",
   "metadata": {},
   "outputs": [],
   "source": [
    "from collections.abc import Iterable\n",
    "\n",
    "import rich\n",
    "from rich.console import Console\n",
    "from rich.table import Table\n",
    "\n",
    "def cohort_summary(*, hc, nc, mci, rbds, title):\n",
    "    def gen_row(D, *, agg, col, f=\"4.1f\", sep=\" ± \"):\n",
    "        if not isinstance(agg, str) and isinstance(agg, Iterable):\n",
    "            return [f\"{sep}\".join([f\"{d.loc[a][col]:{f}}\" for a in agg]) for d in D]\n",
    "        else:\n",
    "            return [f\"{d.loc[agg][col]:{f}}\" for d in D]\n",
    "\n",
    "    def gender_ratio(df):\n",
    "        male_count = df[df[\"SEX\"] == 1][\"PATNO\"].nunique()\n",
    "        return f\"{male_count:.0f}, {male_count / df['PATNO'].nunique() * 100:.1f}%\"\n",
    "\n",
    "    D = [rbds.describe(), mci.describe(), nc.describe(), hc.describe()]\n",
    "\n",
    "    table = Table(title=title, box=rich.box.SIMPLE_HEAVY, show_footer=True)\n",
    "\n",
    "    table.add_column(\"Subject groups\", footer=\"Values expressed as mean ± SD.\")\n",
    "    table.add_column(\"RBD\")\n",
    "    table.add_column(\"RBD-MCI\")\n",
    "    table.add_column(\"RBD-non-MCI\")\n",
    "    table.add_column(\"HC\")\n",
    "    table.add_row(\"n\", *gen_row(D, agg=\"count\", col=\"PATNO\", f=\".0f\"))\n",
    "    table.add_row(\"Age (y)\", *gen_row(D, agg=[\"mean\", \"std\"], col=\"Age\"))\n",
    "    table.add_row(\n",
    "        \"Age range\", *gen_row(D, agg=[\"min\", \"max\"], col=\"Age\", sep=\" - \")\n",
    "    )\n",
    "    table.add_row(\n",
    "        \"Gender (male, %)\", gender_ratio(rbds), gender_ratio(mci), gender_ratio(nc), gender_ratio(hc)\n",
    "    )\n",
    "    table.add_row(\"Education (y)\", *gen_row(D, agg=[\"mean\", \"std\"], col=\"EDUCYRS\"))\n",
    "    table.add_row(\n",
    "        \"UPDRS-III, total\",\n",
    "        *gen_row(D[:3], agg=[\"mean\", \"std\"], col=\"NP3TOT\"),\n",
    "    )\n",
    "    table.add_row(\n",
    "        \"MoCA score, /30\", *gen_row(D[:3], agg=[\"mean\", \"std\"], col=\"MCATOT\")\n",
    "    )\n",
    "    table.add_row(\n",
    "        \"Systolic blood pressure drop, mm Hg\", *gen_row(D[:3], agg=[\"mean\", \"std\"], col=\"SYSDROP\")\n",
    "    )\n",
    "\n",
    "    console = Console()\n",
    "    console.print(table)"
   ]
  },
  {
   "cell_type": "code",
   "execution_count": 20,
   "id": "5df8a053",
   "metadata": {},
   "outputs": [
    {
     "data": {
      "text/html": [
       "<pre style=\"white-space:pre;overflow-x:auto;line-height:normal;font-family:Menlo,'DejaVu Sans Mono',consolas,'Courier New',monospace\"><span style=\"font-style: italic\">                           Demographic and clinical characteristics                            </span>\n",
       "                                                                                               \n",
       " <span style=\"font-weight: bold\"> Subject groups                      </span> <span style=\"font-weight: bold\"> RBD         </span> <span style=\"font-weight: bold\"> RBD-MCI     </span> <span style=\"font-weight: bold\"> RBD-non-MCI </span> <span style=\"font-weight: bold\"> HC          </span> \n",
       " ━━━━━━━━━━━━━━━━━━━━━━━━━━━━━━━━━━━━━━━━━━━━━━━━━━━━━━━━━━━━━━━━━━━━━━━━━━━━━━━━━━━━━━━━━━━━━ \n",
       "  n                                     39            4             35            41           \n",
       "  Age (y)                               66.4 ±  6.7   66.3 ±  3.7   66.4 ±  7.0   63.9 ±  8.3  \n",
       "  Age range                             51.4 - 82.4   63.1 - 71.2   51.4 - 82.4   45.9 - 80.9  \n",
       "  Gender (male, %)                      28, 71.8%     2, 50.0%      26, 74.3%     25, 61.0%    \n",
       "  Education (y)                         16.2 ±  3.4   18.5 ±  5.2   15.9 ±  3.1   18.2 ±  3.8  \n",
       "  UPDRS-III, total                       4.4 ±  4.0    7.3 ±  6.5    4.1 ±  3.6                \n",
       "  MoCA score, /30                       27.0 ±  nan    nan ±  nan   27.0 ±  nan                \n",
       "  Systolic blood pressure drop, mm Hg    7.2 ± 17.5   21.8 ± 15.1    5.5 ± 17.2                \n",
       " ━━━━━━━━━━━━━━━━━━━━━━━━━━━━━━━━━━━━━━━━━━━━━━━━━━━━━━━━━━━━━━━━━━━━━━━━━━━━━━━━━━━━━━━━━━━━━ \n",
       " <span style=\"font-weight: bold\"> Values expressed as mean ± SD.      </span> <span style=\"font-weight: bold\">             </span> <span style=\"font-weight: bold\">             </span> <span style=\"font-weight: bold\">             </span> <span style=\"font-weight: bold\">             </span> \n",
       "                                                                                               \n",
       "</pre>\n"
      ],
      "text/plain": [
       "\u001b[3m                           Demographic and clinical characteristics                            \u001b[0m\n",
       "                                                                                               \n",
       " \u001b[1m \u001b[0m\u001b[1mSubject groups                     \u001b[0m\u001b[1m \u001b[0m \u001b[1m \u001b[0m\u001b[1mRBD        \u001b[0m\u001b[1m \u001b[0m \u001b[1m \u001b[0m\u001b[1mRBD-MCI    \u001b[0m\u001b[1m \u001b[0m \u001b[1m \u001b[0m\u001b[1mRBD-non-MCI\u001b[0m\u001b[1m \u001b[0m \u001b[1m \u001b[0m\u001b[1mHC         \u001b[0m\u001b[1m \u001b[0m \n",
       " ━━━━━━━━━━━━━━━━━━━━━━━━━━━━━━━━━━━━━━━━━━━━━━━━━━━━━━━━━━━━━━━━━━━━━━━━━━━━━━━━━━━━━━━━━━━━━ \n",
       "  n                                     39            4             35            41           \n",
       "  Age (y)                               66.4 ±  6.7   66.3 ±  3.7   66.4 ±  7.0   63.9 ±  8.3  \n",
       "  Age range                             51.4 - 82.4   63.1 - 71.2   51.4 - 82.4   45.9 - 80.9  \n",
       "  Gender (male, %)                      28, 71.8%     2, 50.0%      26, 74.3%     25, 61.0%    \n",
       "  Education (y)                         16.2 ±  3.4   18.5 ±  5.2   15.9 ±  3.1   18.2 ±  3.8  \n",
       "  UPDRS-III, total                       4.4 ±  4.0    7.3 ±  6.5    4.1 ±  3.6                \n",
       "  MoCA score, /30                       27.0 ±  nan    nan ±  nan   27.0 ±  nan                \n",
       "  Systolic blood pressure drop, mm Hg    7.2 ± 17.5   21.8 ± 15.1    5.5 ± 17.2                \n",
       " ━━━━━━━━━━━━━━━━━━━━━━━━━━━━━━━━━━━━━━━━━━━━━━━━━━━━━━━━━━━━━━━━━━━━━━━━━━━━━━━━━━━━━━━━━━━━━ \n",
       " \u001b[1m \u001b[0m\u001b[1mValues expressed as mean ± SD.     \u001b[0m\u001b[1m \u001b[0m \u001b[1m \u001b[0m\u001b[1m           \u001b[0m\u001b[1m \u001b[0m \u001b[1m \u001b[0m\u001b[1m           \u001b[0m\u001b[1m \u001b[0m \u001b[1m \u001b[0m\u001b[1m           \u001b[0m\u001b[1m \u001b[0m \u001b[1m \u001b[0m\u001b[1m           \u001b[0m\u001b[1m \u001b[0m \n",
       "                                                                                               \n"
      ]
     },
     "metadata": {},
     "output_type": "display_data"
    }
   ],
   "source": [
    "cohort_summary(\n",
    "    hc=controls,\n",
    "    nc=rbds_poly_wo_mci,\n",
    "    mci=rbds_poly_mci,\n",
    "    rbds=rbds,\n",
    "    title=\"Demographic and clinical characteristics\",\n",
    ")"
   ]
  },
  {
   "cell_type": "markdown",
   "id": "3ab4ef3e",
   "metadata": {},
   "source": [
    "## Paper replication"
   ]
  },
  {
   "cell_type": "markdown",
   "id": "029e0c0d",
   "metadata": {},
   "source": [
    "Having our cohort is ready, we will now proceed to reproduce the MRI-based results of the paper."
   ]
  },
  {
   "cell_type": "markdown",
   "id": "88917c17",
   "metadata": {},
   "source": [
    "## Image Processing"
   ]
  },
  {
   "cell_type": "markdown",
   "id": "5144c920",
   "metadata": {},
   "source": [
    "The authors conducted cortical reconstruction and volumetric segmentation on the MRI data using the Freesurfer 5.3 image analysis software, following standard procedures."
   ]
  },
  {
   "cell_type": "code",
   "execution_count": 21,
   "id": "fb676784",
   "metadata": {},
   "outputs": [],
   "source": [
    "# # copy working directory to Compute Canada server\n",
    "# DONE\n",
    "\n",
    "# # please provide the following:\n",
    "# hostname = \"narval1.computecanada.ca\"  # please change to the hostname you use\n",
    "# username = \"niyonx\"  # please provide your Compute Canada username\n",
    "# password = \"\"  # please provide your Compute Canada password\n",
    "\n",
    "# from paramiko import SSHClient\n",
    "# from scp import SCPClient\n",
    "\n",
    "# ssh = SSHClient()\n",
    "# ssh.load_system_host_keys()\n",
    "# ssh.connect(\n",
    "#     hostname=hostname,\n",
    "#     username=username,\n",
    "#     password=password,\n",
    "# )\n",
    "\n",
    "\n",
    "# # SCPCLient takes a paramiko transport as its only argument\n",
    "# scp = SCPClient(ssh.get_transport())\n",
    "\n",
    "# cdir = \"./\"\n",
    "# scp.put(cdir, \"rahayel\", recursive=True)\n",
    "\n",
    "# # scp.get('file_path_on_remote_machine', 'file_path_on_local_machine')\n",
    "\n",
    "# scp.close()"
   ]
  },
  {
   "cell_type": "code",
   "execution_count": 2,
   "id": "a557b319",
   "metadata": {},
   "outputs": [],
   "source": [
    "# # Not working\n",
    "# download MRI data\n",
    "downloader = livingpark_utils.download.ppmi.Downloader(utils.study_files_dir, headless=False)\n",
    "\n",
    "utils.get_T1_nifti_files(cohort, default=downloader, symlink=True)"
   ]
  },
  {
   "cell_type": "code",
   "execution_count": 3,
   "id": "9fcab0b2",
   "metadata": {},
   "outputs": [],
   "source": [
    "# Error\n",
    "# %load_ext slurm_magic"
   ]
  },
  {
   "cell_type": "code",
   "execution_count": 5,
   "id": "83d82cfc",
   "metadata": {},
   "outputs": [],
   "source": [
    "# # prepare node for computation. it includes downloading the container\n",
    "\n",
    "! module load singularity\n",
    "\n",
    "from boutiques import bosh\n",
    "\n",
    "zid = \"zenodo.4043546\"\n",
    "bosh([\"exec\", \"prepare\", zid])\n",
    "freesurfer = boutiques.descriptor2func.function(zid)\n",
    "\n",
    "# # INFO:    Creating SIF file...\n",
    "# # FATAL:   While making image from oci registry: error fetching image to cache: while building SIF from layers: while creating squashfs: create command failed: signal: killed: Failed to read file /tmp/build-temp-4229744782/rootfs/etc/gshadow, creating empty file\n",
    "# # Failed to read file /tmp/build-temp-4229744782/rootfs/etc/gshadow-, creating empty file\n",
    "# # Failed to read file /tmp/build-temp-4229744782/rootfs/etc/shadow, creating empty file\n",
    "# # Failed to read file /tmp/build-temp-4229744782/rootfs/etc/shadow-, creating empty file"
   ]
  },
  {
   "cell_type": "code",
   "execution_count": null,
   "id": "abff37dd",
   "metadata": {},
   "outputs": [],
   "source": [
    "# exclude subjects from the dataset if the image was already preprocessed\n",
    "\n",
    "import os.path\n",
    "\n",
    "data_to_process = download_data\n",
    "\n",
    "for patno in data_to_process[\"PATNO\"]:\n",
    "\n",
    "    if os.path.exists(\"preproc_FS_codes/exitcode_{0}.txt\".format(patno)) == True:\n",
    "        exitcode = open(\"preproc_FS_codes/exitcode_{0}.txt\".format(patno), \"r\")\n",
    "\n",
    "        if exitcode.read() == \"0\":\n",
    "            data = data_to_process.drop[\"[0]\".format(patno)]\n",
    "            print(\"The image ID\", patno, \"has been preprocessed.\")\n",
    "        elif exitcode.read() != \"0\":\n",
    "            print(\"The image ID\", patno, \"has not been preprocessed successfully.\")\n",
    "\n",
    "    else:\n",
    "        print(\"The image ID\", patno, \"has not been preprocessed at all.\")"
   ]
  },
  {
   "cell_type": "code",
   "execution_count": null,
   "id": "12adb55d",
   "metadata": {},
   "outputs": [],
   "source": [
    "# save df with all timepoints as json\n",
    "\n",
    "import json\n",
    "\n",
    "download_data[\"PATNO_id\"] = download_data[\"PATNO_id\"].astype(str)\n",
    "\n",
    "data_to_process = download_data.reset_index()\n",
    "small_df = data_to_process[[\"PATNO_id\", \"File name\"]]\n",
    "json_data = small_df.to_json()\n",
    "meta = json.loads(json_data)\n",
    "with open(\"json_data.json\", \"w\") as fout:\n",
    "    json.dump(meta, fout, indent=4)"
   ]
  },
  {
   "cell_type": "code",
   "execution_count": null,
   "id": "392ccc24",
   "metadata": {},
   "outputs": [],
   "source": [
    "%%writefile preprocess_FS.py\n",
    "\n",
    "# save proprocessing script to submit jobs to the server later \n",
    "# copy your FreeSurfer license to FS_license/license.txt or update the license path below\n",
    "\n",
    "import os\n",
    "import json\n",
    "\n",
    "import boutiques\n",
    "from boutiques import bosh\n",
    "zid = \"zenodo.4043546\"\n",
    "from boutiques.descriptor2func import function\n",
    "#bosh([\"exec\", \"prepare\", zid])\n",
    "freesurfer = function(zid)\n",
    "\n",
    "task_id = str(os.environ[\"SLURM_ARRAY_TASK_ID\"])\n",
    "\n",
    "with open('json_data.json') as fin:\n",
    "    subject_map = json.load(fin)\n",
    "\n",
    "    \n",
    "out_fs = freesurfer('--imagepath', 'freesurfer-freesurfer-7.1.1.simg.tmp',\n",
    "                                        input=subject_map[\"File name\"][task_id], qcache_flag=True,\n",
    "                                        license=\"FS_license/license.txt\",\n",
    "                                        subjid=str(subject_map[\"PATNO_id\"][task_id]),\n",
    "                                       )\n",
    "\n",
    "#exitcode = out.stdout\n",
    "exitcode = str(out_fs.exit_code)\n",
    "\n",
    "\n",
    "with open('preproc_FS_codes/exitcode_{0}.txt'.format(str(subject_map[\"PATNO_id\"][task_id])), 'w') as f:\n",
    "        f.write(exitcode)"
   ]
  },
  {
   "cell_type": "code",
   "execution_count": null,
   "id": "a9c49290",
   "metadata": {},
   "outputs": [],
   "source": [
    "%%sbatch --array=0-81\n",
    "#!/bin/bash\n",
    "#SBATCH --job-name=FS_preproc\n",
    "#SBATCH --mem=4G\n",
    "#SBATCH --cpus-per-task=2\n",
    "#SBATCH --nodes=1\n",
    "#SBATCH --output=FS_preproc.out\n",
    "#SBATCH --error=FS_preproc.err\n",
    "#SBATCH --time=10:0:0\n",
    "\n",
    ". venv/bin/activate # opens virtual environment. change depending where you proprocess the data  \n",
    "\n",
    "module load singularity\n",
    "\n",
    "python preprocess_FS.py"
   ]
  },
  {
   "cell_type": "markdown",
   "id": "53b9190c",
   "metadata": {},
   "source": [
    "## Conclusion\n",
    "\n",
    "<!-- In summary, our study replicated the findings of [original study] that showed significant gray matter atrophy in individuals with PD+RBD compared to those with PD alone. Our voxel-wise analysis revealed significant clusters of decreased gray matter volume in [regions], which were further confirmed by ROI analyses. Moreover, we found that gray matter atrophy in [regions] was associated with worse [clinical measure] in PD+RBD.\n",
    "\n",
    "These findings have important implications for understanding the neuropathological mechanisms underlying cognitive deficits in PD+RBD. Our results suggest that gray matter atrophy in specific brain regions may be a useful biomarker for identifying individuals at risk of developing cognitive impairment in PD+RBD. This information could be used to inform early interventions and prevent or slow the progression of cognitive decline in this population.\n",
    "\n",
    "Overall, our study provides further evidence for the importance of examining the neurobiological basis of cognitive impairment in PD+RBD, and underscores the potential value of neuroimaging biomarkers for identifying at-risk individuals and developing targeted interventions. -->"
   ]
  },
  {
   "cell_type": "code",
   "execution_count": null,
   "id": "c038bb3b",
   "metadata": {},
   "outputs": [],
   "source": []
  }
 ],
 "metadata": {
  "kernelspec": {
   "display_name": "Python 3 (ipykernel)",
   "language": "python",
   "name": "python3"
  },
  "language_info": {
   "codemirror_mode": {
    "name": "ipython",
    "version": 3
   },
   "file_extension": ".py",
   "mimetype": "text/x-python",
   "name": "python",
   "nbconvert_exporter": "python",
   "pygments_lexer": "ipython3",
   "version": "3.10.10"
  }
 },
 "nbformat": 4,
 "nbformat_minor": 5
}
