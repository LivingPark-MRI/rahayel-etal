{
 "cells": [
  {
   "cell_type": "markdown",
   "id": "a3579931",
   "metadata": {},
   "source": [
    "## TODO\n",
    "\n",
    "- [ ] Make sure we have 59 patients with RBD\n",
    "- [ ] Including 17 with MCI\n",
    "- [ ] 41 Healthy controls"
   ]
  },
  {
   "cell_type": "markdown",
   "id": "4bff3947",
   "metadata": {},
   "source": [
    "# Replication: Rahayel *et al*, 2018\n",
    "## Introduction\n",
    "\n",
    "This notebook attempts to replicate the following paper with the [PPMI](http://ppmi-info.org) dataset:\n",
    "\n",
    "<div class=\"alert alert-block alert-success\">\n",
    "Shady Rahayel, et al. <a href=https://www.ncbi.nlm.nih.gov/pmc/articles/PMC5957304/>Cortical and subcortical gray matter bases of cognitive deficits in REM sleep behavior disorder</a> Neurology, vol. 90, no. 20, pp. e1759–e1770, 2018.\n",
    "</div>"
   ]
  },
  {
   "cell_type": "markdown",
   "id": "91655677",
   "metadata": {},
   "source": [
    "This study involved 59 patients with polysomnography confirmed RBD, including 17 with MCI. They were compared to 41 controls."
   ]
  },
  {
   "cell_type": "code",
   "execution_count": 1,
   "id": "19c0271d",
   "metadata": {},
   "outputs": [],
   "source": [
    "# Write more on what are the findings of the paper"
   ]
  },
  {
   "cell_type": "markdown",
   "id": "da7838b8",
   "metadata": {},
   "source": [
    "The remainder of this notebook is an attempt to replicate this result using the PPMI dataset."
   ]
  },
  {
   "cell_type": "markdown",
   "id": "bc767d21",
   "metadata": {},
   "source": [
    "## Initial setup"
   ]
  },
  {
   "cell_type": "markdown",
   "id": "96af72c9",
   "metadata": {},
   "source": [
    "<!-- LivingPark notebooks use a *cache* directory to store analysis inputs and outputs. Inputs typically include PPMI Study Data and imaging data whereas outputs include processed images and other derivatives. Cache directories allow LivingPark notebooks to run in a few minutes as they reuse previously computed results. However, cache directories cannot be made public due to the PPMI Data Usage Agreement (DUA). Instead, they are stored on `login.bic.mni.mcgill.ca`, which requires a specific user name and password. In case you don't have access to the cache directory of this notebook, the next sections will download all the required imaging data from PPMI and recompute the results, which will take a few hours depending on your computer configuration. In the future, we will aim at storing this cache dataset on PPMI servers so that they can be accessed with a PPMI account. -->\n",
    "\n",
    "Let's initialize the notebook directory and software dependencies:"
   ]
  },
  {
   "cell_type": "code",
   "execution_count": 2,
   "id": "5b017abe",
   "metadata": {},
   "outputs": [
    {
     "name": "stdout",
     "output_type": "stream",
     "text": [
      "removing link inputs\n",
      "removing link outputs\n",
      "This notebook was run on 2023-02-07 03:22:16 UTC +0000\n"
     ]
    },
    {
     "data": {
      "text/html": [
       "<script>\n",
       "    code_show = true;\n",
       "    function code_toggle() {\n",
       "        if (code_show) {\n",
       "            $(\"div.input\").hide();\n",
       "        } else {\n",
       "            $(\"div.input\").show();\n",
       "        }\n",
       "        code_show = !code_show\n",
       "    }\n",
       "    $(document).ready(code_toggle);\n",
       "</script>\n",
       "<form action=\"javascript:code_toggle()\">\n",
       "    <input type=\"submit\" value=\"Click here to toggle on/off the Python code.\">\n",
       "</form>\n"
      ],
      "text/plain": [
       "<IPython.core.display.HTML object>"
      ]
     },
     "execution_count": 2,
     "metadata": {},
     "output_type": "execute_result"
    }
   ],
   "source": [
    "import livingpark_utils\n",
    "\n",
    "utils = livingpark_utils.LivingParkUtils()\n",
    "random_seed = 2\n",
    "utils.notebook_init()\n",
    "# random_seed = 1 # to be tested\n",
    "#random_seed = 2  # no significant cluster\n",
    "# random_seed = 3 # no significant cluster\n",
    "# random_seed = 4 # no significant cluster"
   ]
  },
  {
   "cell_type": "markdown",
   "id": "108ac7ee",
   "metadata": {},
   "source": [
    "## PPMI cohort preparation\n",
    "\n",
    "We will build a PPMI cohort that matches the one used in the original study (Table 1) as much as possible. As in other LivingPark replications, we will use the same sample size as the original study. Our cohort will be built directly from PPMI Study Data files so that it can be replicated and updated whenever necessary."
   ]
  },
  {
   "cell_type": "markdown",
   "id": "b79e1d85",
   "metadata": {},
   "source": [
    "### Study data download"
   ]
  },
  {
   "cell_type": "markdown",
   "id": "227f3933",
   "metadata": {},
   "source": [
    "We will start by downloading the PPMI Study Data files required to build our cohort: \n",
    "* Demographics (to retrieve sex)\n",
    "* REM Sleep Behavior Disorder Questionnaire (for RBD score)\n",
    "* Prodromal History (for polysomnographies)\n",
    "* Primary Clinical Diagnosis (to include only healthy subjects)\n",
    "* Cognitive Categorization (to exclude subjects with dementia)\n",
    "* Medical Condition (to exclude neurological and psychiatric disorders)\n",
    "* Concomitant Medication Log (to exclude medication known to modify REM sleep architecture and muscle tone)\n",
    "\n",
    "We will use the LivingPark utils library to download these files from the notebook. If files are already present in the notebook cache, they won't be downloaded again. Otherwise, you will need to enter your PPMI username and password. In case you don't have a PPMI account, you can request one [here](http://ppmi-info.org)."
   ]
  },
  {
   "cell_type": "code",
   "execution_count": 3,
   "id": "f92d4354",
   "metadata": {},
   "outputs": [
    {
     "name": "stdout",
     "output_type": "stream",
     "text": [
      "Download skipped: No missing files!\n"
     ]
    },
    {
     "name": "stderr",
     "output_type": "stream",
     "text": [
      "/tmp/ipykernel_334721/2927919574.py:11: DeprecationWarning: Call to deprecated function download_ppmi_metadata.\n",
      "This function will be remove in future version.\n",
      "Moved to function `livinpark_utils::LivingParkUtils::get_study_files`.\n",
      "  utils.download_ppmi_metadata(required_files, headless=False)\n"
     ]
    }
   ],
   "source": [
    "required_files = [\n",
    "    \"Demographics.csv\",\n",
    "    \"REM_Sleep_Behavior_Disorder_Questionnaire.csv\",\n",
    "    \"Primary_Clinical_Diagnosis.csv\",\n",
    "    \"Cognitive_Categorization.csv\",\n",
    "    \"Medical_Conditions_Log.csv\",\n",
    "    \"Concomitant_Medication_Log.csv\",\n",
    "    \"Prodromal_History.csv\",\n",
    "]\n",
    "\n",
    "utils.download_ppmi_metadata(required_files, headless=False)"
   ]
  },
  {
   "cell_type": "markdown",
   "id": "a38c6b31",
   "metadata": {},
   "source": [
    "We will also need file `MRI_info.csv` produced by another LivingPark notebook available at https://github.com/LivingPark-MRI/livingpark-utils/blob/main/livingpark_utils/notebooks/mri_metadata.ipynb. This file contains a list of T1-weighted MRIs usable for VBM. "
   ]
  },
  {
   "cell_type": "code",
   "execution_count": 4,
   "id": "e5b1b346",
   "metadata": {},
   "outputs": [],
   "source": [
    "# %%capture\n",
    "# from livingpark_utils.scripts import (\n",
    "#     mri_metadata,\n",
    "#     pd_status,\n",
    "# )"
   ]
  },
  {
   "cell_type": "markdown",
   "id": "fd486279",
   "metadata": {},
   "source": [
    "### RBD Score computation\n",
    "\n",
    "The original study used polysomnography to diagnose REM Sleep Behavior Disorder. While polysomnography is available in the PPMI prodromal cohort, as of July 2022 the number of subjects matching the inclusion/exclusion criteria in this cohort is not enough to replicate the original study (see also Section \"Inclusion criteria\").\n",
    "Instead, we will use the REM Sleep Behavior Disorder Screening Questionnaire (RSBDSQ) [[1]](https://movementdisorders.onlinelibrary.wiley.com/doi/10.1002/mds.21740) to discriminate RBD patients from controls. This questionnaire consists of 13 yes/no questions that are summed to produce an RBD score. We computed the RBD score by summing the answers to each of the 13 questions. The answers to questions Q1 to Q9 (12 questions as Q6 is sub-divided in 4 parts) are directly availble in the RSBDSQ Study Data file. We computed the answer to Q10 (\"I have/had a disease of the nervous system (e.g., stroke, head trauma, parkinsonism, RLS, narcolepsy, depression, epilepsy, inflammatory disease of the brain), which?\") by taking the max of the 8 corresponding disease variables in the RSBDSQ Study Data file. We also computed the answer to Q6 as the sum of Q6.1 to Q6.4 as it will use as inclusion criterion for controls."
   ]
  },
  {
   "cell_type": "markdown",
   "id": "005b78ee",
   "metadata": {},
   "source": [
    "We obtain the following distribution of RBD scores in the PPMI dataset:"
   ]
  },
  {
   "cell_type": "code",
   "execution_count": 22,
   "id": "0cb1abee",
   "metadata": {},
   "outputs": [
    {
     "data": {
      "image/png": "[encoded data removed]",
      "text/plain": [
       "<Figure size 640x480 with 1 Axes>"
      ]
     },
     "metadata": {},
     "output_type": "display_data"
    }
   ],
   "source": [
    "import os\n",
    "import pandas as pd\n",
    "\n",
    "# Load PPMI RSBDQ data\n",
    "rbdsq = pd.read_csv(\n",
    "    os.path.join(utils.study_files_dir, \"REM_Sleep_Behavior_Disorder_Questionnaire.csv\")\n",
    ")\n",
    "\n",
    "# Compute RBDSQ score\n",
    "rbdsq[\"RBDSQ\"] = (\n",
    "    rbdsq[\"DRMVIVID\"]  # Q1\n",
    "    + rbdsq[\"DRMAGRAC\"]  # Q2\n",
    "    + rbdsq[\"DRMNOCTB\"]  # Q3\n",
    "    + rbdsq[\"SLPLMBMV\"]  # Q4\n",
    "    + rbdsq[\"SLPINJUR\"]  # Q5\n",
    "    + rbdsq[\"DRMVERBL\"]  # Q6.1\n",
    "    + rbdsq[\"DRMFIGHT\"]  # Q6.2\n",
    "    + rbdsq[\"DRMUMV\"]  # Q6.3\n",
    "    + rbdsq[\"DRMOBJFL\"]  # Q6.4\n",
    "    + rbdsq[\"MVAWAKEN\"]  # Q7\n",
    "    + rbdsq[\"DRMREMEM\"]  # Q8\n",
    "    + rbdsq[\"SLPDSTRB\"]  # Q9\n",
    "    + rbdsq[  # Q10\n",
    "        [\n",
    "            \"BRNINFM\",\n",
    "            \"DEPRS\",\n",
    "            \"EPILEPSY\",\n",
    "            \"HETRA\",\n",
    "            \"NARCLPSY\",\n",
    "            \"PARKISM\",\n",
    "            \"RLS\",\n",
    "            \"STROKE\",\n",
    "        ]\n",
    "    ].max(axis=1)\n",
    ")\n",
    "\n",
    "rbdsq[\"Q6\"] = (\n",
    "    rbdsq[\"DRMVERBL\"] + rbdsq[\"DRMFIGHT\"] + rbdsq[\"DRMUMV\"] + rbdsq[\"DRMOBJFL\"]\n",
    ")\n",
    "\n",
    "# Note: CNSOTHCM isn't present in data\n",
    "\n",
    "# Check that max RBDSQ score is <= 13\n",
    "assert rbdsq[\"RBDSQ\"].max() <= 13\n",
    "\n",
    "rbdsq = rbdsq[[\"PATNO\", \"EVENT_ID\", \"Q6\", \"RBDSQ\", \"STROKE\", \"EPILEPSY\"]]\n",
    "\n",
    "rbdsq.groupby(\"RBDSQ\").count()[\"PATNO\"].plot.bar()\n",
    "\n",
    "from matplotlib import pyplot as plt\n",
    "\n",
    "plt.ylabel(\"Number of records\")\n",
    "plt.show()"
   ]
  },
  {
   "cell_type": "markdown",
   "id": "bfd35ab8",
   "metadata": {},
   "source": [
    "### Inclusion criteria\n",
    "\n",
    "To replicate the cohort in the original study, we used the following inclusion and exclusion criteria among PPMI subjects.\n",
    "\n",
    "1. No Parkinsonim: we included PPMI subjects with PRIMDIAG = 17 (no PD nor other neurological disorder) or PRIMDIAG = 25 (prodromal). **TODO**: check with Madeleine if prodromal is ok. Otherwise, it reduces even more the number of subjects with polysomnographies (which are currently too few anyway so not an issue).\n",
    "\n",
    "2. T1-weighted MRI available and usable for VBM (see [MRI metadata notebook](https://github.com/LivingPark-MRI/livingpark-utils/blob/main/livingpark_utils/notebooks/mri_metadata.ipynb)).\n",
    "\n",
    "3. No dementia: we excluded subjects with COGSTATE = 3.\n",
    "\n",
    "4. No neurological or psychiatric illness and no evidence of central nervous system (CNS) comorbidities: we excluded subjects with MHCAT in [\"1P\"] or [114] (neurologic and psychiatric disease). **TODO** check with Madeleine if these codes also account for CNS comorbitities.\n",
    "\n",
    "Participants with a history of \n",
    "- stroke, x - REMSLEEP\n",
    "- head trauma, x\n",
    "- brain injury, x\n",
    "- unstable hypertension or diabetes - Concomittent - CMINDC - 14 (hypertension) - 11 (diabetes)\n",
    "- chronic obstructive pulmonary disease - MHCAT 105 - 1G\n",
    "- claustrophobia (nowhere)\n",
    "- EEG abnormalities suggesting epilepsy x - REMSLEEP\n",
    "- encephalitis\n",
    "- or any other neurologic disorders,- MHCAT 114 - 1P + PRIMDIAG 17 or 97\n",
    "- or with artifacts on brain scans were excluded.\n",
    "\n",
    "5. RBD group: we included subjects when their RBD score is >= 5.\n",
    "\n",
    "6. Control group: we included subjects when their RBD score is < 5 and their score to Q6 of the RSBDSQ is 0. **TODO** ref needed, see email thread between Madeleine and Ron Postuma\n",
    "\n",
    "In case multiple visits of a given subject are included in the RBD or Control group, we randomly select one of them for inclusion in the group and exclude the other ones. This selection ensures that a given subject is included at most once in the RBD group and at most once in the control group. In Section \"Cohort matching\", we will ensure that a given subjet is included in at most one group. \n",
    "\n",
    "We obtain the following group sizes:\n",
    "\n",
    "<!-- and a cutoff score of 6 to identify RBD subjects among PD subjects, consistently with the results presented in [[2]](https://www.sciencedirect.com# /science/article/pii/S138994571100164X). -->"
   ]
  },
  {
   "cell_type": "code",
   "execution_count": 65,
   "id": "653c76b6",
   "metadata": {},
   "outputs": [
    {
     "name": "stdout",
     "output_type": "stream",
     "text": [
      "Number of RBD subjects w/ polysomnography w/o MCI: 8\n",
      "Number of RBD subjects w/ polysomnography w/ MCI: 0\n",
      "Number of RBD subjects w/o polysomnography w/o MCI: 41\n",
      "Number of RBD subjects w/o polysomnography w/ MCI: 2\n",
      "Number of control subjects: 95\n",
      "We don't have enough RBD subjects with polysomnography. Let's use RBD subjects without polysomnography in this replication.\n"
     ]
    }
   ],
   "source": [
    "# Read data files\n",
    "\n",
    "# Prodromal history\n",
    "prodr_hist = pd.read_csv(os.path.join(utils.study_files_dir, 'Prodromal_History.csv'))[[\"PATNO\", \"RBDDIAG\", \"RBDPSG\"]]\n",
    "\n",
    "# MRI info\n",
    "mri = pd.read_csv(os.path.join(utils.study_files_dir, \"MRI_info.csv\"))[\n",
    "    [\"Subject ID\", \"Visit code\", \"Description\", \"Age\"]\n",
    "]\n",
    "mri.rename(columns={\"Subject ID\": \"PATNO\", \"Visit code\": \"EVENT_ID\"}, inplace=True)\n",
    "\n",
    "# Demographics\n",
    "dem = pd.read_csv(os.path.join(utils.study_files_dir, \"Demographics.csv\"))[[\"PATNO\", \"SEX\"]]\n",
    "\n",
    "# Diagnosis\n",
    "diag = pd.read_csv(os.path.join(utils.study_files_dir, \"Primary_Clinical_Diagnosis.csv\"))[\n",
    "    [\"PATNO\", \"EVENT_ID\", \"PRIMDIAG\", \"OTHNEURO\"]\n",
    "]\n",
    "\n",
    "# Cognitive Categorization\n",
    "cog_cat = pd.read_csv(os.path.join(utils.study_files_dir, \"Cognitive_Categorization.csv\"))[\n",
    "    [\"PATNO\", \"EVENT_ID\", \"COGSTATE\"]\n",
    "]\n",
    "\n",
    "# Medical condition\n",
    "med_cond = pd.read_csv(os.path.join(utils.study_files_dir, \"Medical_Conditions_Log.csv\"))[\n",
    "    [\"PATNO\", \"EVENT_ID\", \"MHCAT\"]\n",
    "].groupby(['PATNO', 'EVENT_ID'])[['MHCAT']].aggregate(lambda x: tuple(set(x))) # aggregate all codes in a tuple\n",
    "\n",
    "# Medication\n",
    "meds = pd.read_csv(os.path.join(utils.study_files_dir, \"Concomitant_Medication_Log.csv\"))[\n",
    "    [\"PATNO\", \"EVENT_ID\", \"SEQNO\", \"CMTRT\", \"CMINDC\"]\n",
    "].groupby(['PATNO', 'EVENT_ID'])[['CMTRT', 'CMINDC']].aggregate(lambda x: tuple(x)) # aggregate all meds in a tuple\n",
    "\n",
    "def included(subjects, with_mci=False):\n",
    "    '''\n",
    "    Return subjects complying to the inclusion criteria mentioned before.\n",
    "    \n",
    "    Parameters\n",
    "    ----------\n",
    "    subjects: DataFrame. Has to contain columns PATNO and EVENT_ID and PRIMDIAG\n",
    "    '''\n",
    "    temp =  (subjects.merge(dem, on=\"PATNO\", how=\"inner\") # Sex is available\n",
    "     .merge(diag[diag['PRIMDIAG'].isin([17, 25])], on=[\"PATNO\", \"EVENT_ID\"], how=\"inner\") # Subject is healthy or prodromal\n",
    "     .merge(mri, on=[\"PATNO\", \"EVENT_ID\"], how=\"inner\")  # MRI usable for VBM is available\n",
    "     .merge(cog_cat[cog_cat[\"COGSTATE\"] == 2 if with_mci else cog_cat[\"COGSTATE\"] == 1], how=\"inner\", on=[\"PATNO\", \"EVENT_ID\"])  # No dementia\n",
    "     .merge(med_cond, on=[\"PATNO\", \"EVENT_ID\"], how=\"left\")\n",
    "     .merge(meds, on=[\"PATNO\", \"EVENT_ID\"], how=\"left\")\n",
    "     \n",
    "             [\n",
    "        [\n",
    "            \"PATNO\",\n",
    "            \"EVENT_ID\",\n",
    "            \"RBDSQ\",\n",
    "            \"Q6\",\n",
    "            \"SEX\",\n",
    "            \"Age\",\n",
    "            \"Description\",\n",
    "            \"PRIMDIAG\",\n",
    "            \"COGSTATE\",\n",
    "            \"MHCAT\",\n",
    "            \"CMTRT\",\n",
    "            \"CMINDC\"\n",
    "        ]\n",
    "    ]\n",
    "            )\n",
    "    \n",
    "    # Check medical condition and return\n",
    "    def check_mhcat(x):\n",
    "        import numpy as np\n",
    "        if type(x) == tuple:\n",
    "            return not (\"1P\" in x or \"1G\" in x)\n",
    "        else:\n",
    "            return np.isnan(x)\n",
    "        \n",
    "    # Check concomitant medication log indication and return\n",
    "    def check_indication(x):\n",
    "        import numpy as np\n",
    "        if type(x) == tuple:\n",
    "            return not (14 in x or 11 in x)\n",
    "        else:\n",
    "            return np.isnan(x)\n",
    "        \n",
    "#     print(temp)\n",
    "        \n",
    "    return temp[(temp[\"MHCAT\"].apply(check_mhcat)) & (temp[\"CMINDC\"].apply(check_indication))]  # No neurological or psychiatric illness and no evidence of central nervous system (CNS) comorbidities\n",
    "\n",
    "# Extract RBD subjects and controls according to inclusion criteria\n",
    "# Sample one entry (event and T1 description) per subject in each group so that a subject happens at most once in a group (between-group consistency will be ensured in cohort matching)\n",
    "# Sort entries by PATNO to improve reproducibility of this notebook\n",
    "\n",
    "rbds_poly =  included((prodr_hist[(prodr_hist['RBDDIAG']==1) & (prodr_hist['RBDPSG']==1)].merge(rbdsq, on=\"PATNO\", how=\"inner\")))\n",
    "if len(rbds_poly) !=0 : \n",
    "    rbds_poly = (rbds_poly.groupby(\"PATNO\")\n",
    "    .sample(1, random_state=random_seed)\n",
    "    .sort_values(by=\"PATNO\"))\n",
    "    \n",
    "rbds_poly_mci =  included((prodr_hist[(prodr_hist['RBDDIAG']==1) & (prodr_hist['RBDPSG']==1)].merge(rbdsq, on=\"PATNO\", how=\"inner\")), True)\n",
    "if len(rbds_poly_mci) !=0 : \n",
    "    rbds_poly_mci = (rbds_poly.groupby(\"PATNO\")\n",
    "    .sample(1, random_state=random_seed)\n",
    "    .sort_values(by=\"PATNO\"))\n",
    "    \n",
    "rbds_poly_wo_mci =  included((prodr_hist[(prodr_hist['RBDDIAG']==1) & (prodr_hist['RBDPSG']==1)].merge(rbdsq, on=\"PATNO\", how=\"inner\")))\n",
    "if len(rbds_poly_wo_mci) !=0 : \n",
    "    rbds_poly_wo_mci = (rbds_poly.groupby(\"PATNO\")\n",
    "    .sample(1, random_state=random_seed)\n",
    "    .sort_values(by=\"PATNO\"))\n",
    "\n",
    "rbds_sq = (included(rbdsq[(rbdsq[\"RBDSQ\"] >= 5) & (rbdsq[\"STROKE\"] == 0) & (rbdsq[\"EPILEPSY\"] == 0)]).groupby(\"PATNO\")\n",
    "    .sample(1, random_state=random_seed)\n",
    "    .sort_values(by=\"PATNO\"))\n",
    "rbds_sq_mci = (included(rbdsq[(rbdsq[\"RBDSQ\"] >= 5) & (rbdsq[\"STROKE\"] == 0) & (rbdsq[\"EPILEPSY\"] == 0)], True).groupby(\"PATNO\")\n",
    "    .sample(1, random_state=random_seed)\n",
    "    .sort_values(by=\"PATNO\"))\n",
    "rbds_sq_wo_mci = (included(rbdsq[(rbdsq[\"RBDSQ\"] >= 5) & (rbdsq[\"STROKE\"] == 0) & (rbdsq[\"EPILEPSY\"] == 0)]).groupby(\"PATNO\")\n",
    "    .sample(1, random_state=random_seed)\n",
    "    .sort_values(by=\"PATNO\"))\n",
    "controls = (included(rbdsq[(rbdsq[\"RBDSQ\"] < 5) & (rbdsq[\"Q6\"] == 0) & (rbdsq[\"STROKE\"] == 0) & (rbdsq[\"EPILEPSY\"] == 0)]).groupby(\"PATNO\")\n",
    "    .sample(1, random_state=random_seed)\n",
    "    .sort_values(by=\"PATNO\"))\n",
    "\n",
    "# print(f\"Number of RBD subjects w/ polysomnography: {len(rbds_poly)}\")\n",
    "# print(f\"Number of RBD subjects w/o polysomnography: {len(rbds_sq['PATNO'])}\")\n",
    "print(f\"Number of RBD subjects w/ polysomnography w/o MCI: {len(rbds_poly_wo_mci)}\")\n",
    "print(f\"Number of RBD subjects w/ polysomnography w/ MCI: {len(rbds_poly_mci)}\")\n",
    "print(f\"Number of RBD subjects w/o polysomnography w/o MCI: {len(rbds_sq_wo_mci['PATNO'])}\")\n",
    "print(f\"Number of RBD subjects w/o polysomnography w/ MCI: {len(rbds_sq_mci['PATNO'])}\")\n",
    "print(f\"Number of control subjects: {len(controls['PATNO'])}\")\n",
    "\n",
    "\n",
    "if len(rbds_poly) < 52:\n",
    "    print(\"We don't have enough RBD subjects with polysomnography. Let's use RBD subjects without polysomnography in this replication.\")\n",
    "    rbds = rbds_sq\n",
    "else:\n",
    "    print(\"We have enough RBD subjects with polysomnography to use them in this replication.\")\n",
    "    rbds = rbds_poly"
   ]
  },
  {
   "cell_type": "markdown",
   "id": "8a0d10ec",
   "metadata": {},
   "source": [
    "### Cohort matching"
   ]
  },
  {
   "cell_type": "code",
   "execution_count": null,
   "id": "b2111bc5",
   "metadata": {},
   "outputs": [],
   "source": []
  },
  {
   "cell_type": "markdown",
   "id": "66ac2b7c",
   "metadata": {},
   "source": [
    "The RBD and Control groups built previously give us a lot of flexibility to build a cohort that matches the one in the original study, due to their large sample size compared to the original cohort. We adopted the following approach to construct a matching cohort:\n",
    "1. Randomly select 4 control women and 10 control men, to reproduce the F/M balance in the original study\n",
    "2. Find 26 subjects from the RBD group that best match age and sex in the selected control group. We matched sex by direct sampling of males and females using the same proportion as in the original study. We matched age using a nearest-neighbor approach.\n",
    "\n",
    "---\n",
    "\n",
    "- controls 61% men - 25 | 65.5 (6.6) \n",
    "- RBD 81% men - 42 | 67.9 (4.4) \n",
    "- RBD w MCI 71% men - 12 | 64.4 (7.2)\n",
    "- RBC wo MCI 86% men - 30 | 63.2 (8.2)\n",
    "\n",
    "---\n",
    "\n",
    "We obtain the following cohort:"
   ]
  },
  {
   "cell_type": "code",
   "execution_count": 44,
   "id": "f34cab79",
   "metadata": {},
   "outputs": [],
   "source": [
    "def nn_match(sample1, df_2, n2, cat_variables, num_variables, random_state=random_seed):\n",
    "    \"\"\"\n",
    "    Find len(sample1) rows in df_2 such that variables are matched with sample1.\n",
    "\n",
    "    sample1: samples in group1\n",
    "    df_2: dataframe with subjects in group 2\n",
    "    n2: desired sample size for group 2\n",
    "    cat_variables: categorical variables to match\n",
    "    num_variables: numerical variables to match\n",
    "    \"\"\"\n",
    "\n",
    "    def nn(x, df, variables):\n",
    "        \"\"\"\n",
    "        Find index of nearest neighbor of x in df\n",
    "\n",
    "        * x: a dataframe row\n",
    "        * df: a dataframe\n",
    "        * variables: variables to match. Should be normalized.\n",
    "        \"\"\"\n",
    "        df[\"dist\"] = sum((df[var] - x[var]) ** 2 for var in variables)\n",
    "        df.sort_values(\"dist\", inplace=True)\n",
    "        return df.head(1).index[\n",
    "            0\n",
    "        ]  ## there's probably a better way to do it but it works\n",
    "\n",
    "    # Check assumptions\n",
    "    n1 = len(sample1)\n",
    "    assert n1 <= n2\n",
    "    for v in num_variables + cat_variables:\n",
    "        assert v in sample1 and v in df_2\n",
    "\n",
    "    # Copy original dataframe to leave it untouched\n",
    "    df_2_ = df_2.copy()\n",
    "    sample1_ = sample1.copy()\n",
    "\n",
    "    # Remove from df_2 all subjects that are in sample1\n",
    "    df_2_ = df_2_[~df_2_[\"PATNO\"].isin(sample1[\"PATNO\"])]\n",
    "\n",
    "    # Normalize variables to match to compute meaningful distances\n",
    "    for v in num_variables:\n",
    "        m = df_2_[v].mean()\n",
    "        s = df_2_[v].std()\n",
    "        for df in (df_2_, sample1_):\n",
    "            df[v] = (df[v] - m) / s\n",
    "\n",
    "    # For each subject in sampled group 1,\n",
    "    # find one or more subject in sampled group 2, without replacement.\n",
    "    indices = []\n",
    "    for i in range(n2):\n",
    "        j = i % n1  # loop over sample1\n",
    "        df_2_cat = df_2_.copy()\n",
    "        for c in cat_variables:\n",
    "            if len(df_2_cat[df_2_cat[c] == sample1_.iloc[j][c]]) > 0:\n",
    "                df_2_cat = df_2_cat[df_2_cat[c] == sample1_.iloc[j][c]]\n",
    "            else:\n",
    "                print(\n",
    "                    f\"Warning: cannot find subject with {c}=={sample1_.iloc[j][c]} in sample 2. Removing constraint.\"\n",
    "                )\n",
    "        index = nn(sample1_.iloc[j], df_2_cat, num_variables)\n",
    "        df_2_.drop(index=index, inplace=True)\n",
    "        indices.append(index)\n",
    "\n",
    "    sample2 = df_2[df_2.index.isin(indices)]\n",
    "\n",
    "    return sample2"
   ]
  },
  {
   "cell_type": "code",
   "execution_count": 42,
   "id": "7653bc26",
   "metadata": {},
   "outputs": [],
   "source": [
    "# Randomly select 4 control women and 10 control men, to reproduce F/M balance in original paper\n",
    "controls = pd.concat(\n",
    "    [\n",
    "        controls[controls[\"SEX\"] == 0].sample(\n",
    "            n=5, random_state=random_seed\n",
    "        ),  # 4/10 doesn't work for RBDs\n",
    "        controls[controls[\"SEX\"] == 1].sample(n=9, random_state=random_seed),\n",
    "    ]\n",
    ")\n",
    "\n",
    "# Match with RBD subjects\n",
    "rbds = nn_match(controls, rbds, 27, [\"SEX\"], [\"Age\"], random_state=random_seed)"
   ]
  },
  {
   "cell_type": "code",
   "execution_count": 40,
   "id": "0c146397",
   "metadata": {},
   "outputs": [
    {
     "data": {
      "text/html": [
       "<div>\n",
       "<style scoped>\n",
       "    .dataframe tbody tr th:only-of-type {\n",
       "        vertical-align: middle;\n",
       "    }\n",
       "\n",
       "    .dataframe tbody tr th {\n",
       "        vertical-align: top;\n",
       "    }\n",
       "\n",
       "    .dataframe thead th {\n",
       "        text-align: right;\n",
       "    }\n",
       "</style>\n",
       "<table border=\"1\" class=\"dataframe\">\n",
       "  <thead>\n",
       "    <tr style=\"text-align: right;\">\n",
       "      <th></th>\n",
       "      <th>iRBD Patients</th>\n",
       "      <th>Controls</th>\n",
       "    </tr>\n",
       "  </thead>\n",
       "  <tbody>\n",
       "    <tr>\n",
       "      <th>Subjects, No.</th>\n",
       "      <td>27</td>\n",
       "      <td>14</td>\n",
       "    </tr>\n",
       "    <tr>\n",
       "      <th>F/M, No.</th>\n",
       "      <td>10/17</td>\n",
       "      <td>5/9</td>\n",
       "    </tr>\n",
       "    <tr>\n",
       "      <th>Age, mean +/- SD</th>\n",
       "      <td>63.7 +/- 7.5</td>\n",
       "      <td>64.2 +/- 9.5</td>\n",
       "    </tr>\n",
       "  </tbody>\n",
       "</table>\n",
       "</div>"
      ],
      "text/plain": [
       "                 iRBD Patients      Controls\n",
       "Subjects, No.               27            14\n",
       "F/M, No.                 10/17           5/9\n",
       "Age, mean +/- SD  63.7 +/- 7.5  64.2 +/- 9.5"
      ]
     },
     "execution_count": 40,
     "metadata": {},
     "output_type": "execute_result"
    }
   ],
   "source": [
    "import os\n",
    "\n",
    "cohort_stats = pd.DataFrame(columns=[\"iRBD Patients\", \"Controls\"])\n",
    "\n",
    "cohort_stats.loc[\"Subjects, No.\"] = [len(rbds), len(controls)]\n",
    "cohort_stats.loc[\"F/M, No.\"] = [\n",
    "    f\"{len(rbds[rbds['SEX']==0])}/{len(rbds[rbds['SEX']==1])}\",\n",
    "    f\"{len(controls[controls['SEX']==0])}/{len(controls[controls['SEX']==1])}\",\n",
    "]\n",
    "cohort_stats.loc[\"Age, mean +/- SD\"] = [\n",
    "    f\"{round(rbds['Age'].mean(),1)} +/- {round(rbds['Age'].std(),1)}\",\n",
    "    f\"{round(controls['Age'].mean(),1)} +/- {round(controls['Age'].std(),1)}\",\n",
    "]\n",
    "\n",
    "cohort_stats"
   ]
  },
  {
   "cell_type": "markdown",
   "id": "05be0cd3",
   "metadata": {},
   "source": [
    "The demographics parameters of the selected PPMI subjects seem comparable to the ones in the initial study. "
   ]
  },
  {
   "cell_type": "markdown",
   "id": "3d65268e",
   "metadata": {},
   "source": [
    "Let's do basic sanity checks in this cohort:\n",
    "* A subject appears at most once in each group\n",
    "* A subject does not appear in more than one group"
   ]
  },
  {
   "cell_type": "code",
   "execution_count": null,
   "id": "99b96ca9",
   "metadata": {},
   "outputs": [],
   "source": [
    "assert len(pd.unique(rbds[\"PATNO\"])) == len(\n",
    "    rbds\n",
    "), \"Some subjects are present more than once in RBD group\"\n",
    "assert len(pd.unique(controls[\"PATNO\"])) == len(\n",
    "    controls\n",
    "), \"Some subjects are present more than once in controls\"\n",
    "assert (\n",
    "    len(set(controls[\"PATNO\"]) & set(rbds[\"PATNO\"])) == 0\n",
    "), f'Some subjects are present in controls and rbd group {set(controls[\"PATNO\"]) & set(rbds[\"PATNO\"])}'\n",
    "print(\"All sanity checks passed.\")"
   ]
  },
  {
   "cell_type": "code",
   "execution_count": null,
   "id": "f114d7b3",
   "metadata": {},
   "outputs": [],
   "source": [
    "# Concatenate both groups in cohort DataFrame\n",
    "rbds[\"group\"] = \"RBD\"\n",
    "controls[\"group\"] = \"Control\"\n",
    "cohort = pd.concat([rbds, controls])"
   ]
  },
  {
   "cell_type": "code",
   "execution_count": null,
   "id": "b764092b",
   "metadata": {},
   "outputs": [],
   "source": [
    "cohort"
   ]
  },
  {
   "cell_type": "markdown",
   "id": "0b922fac",
   "metadata": {},
   "source": [
    "Finally, we generate a cohort id that uniquely identifies the cohort built previously. We will use this id to avoid recomputing the same results multiple times:"
   ]
  },
  {
   "cell_type": "code",
   "execution_count": null,
   "id": "31b51edf",
   "metadata": {},
   "outputs": [],
   "source": [
    "cohort_id = utils.cohort_id(cohort)\n",
    "print(f\"Cohort id: {cohort_id}\")"
   ]
  },
  {
   "cell_type": "code",
   "execution_count": null,
   "id": "788e699b",
   "metadata": {},
   "outputs": [],
   "source": [
    "# Save patient ids\n",
    "filename = f\"scherfler-etal-patnos-{cohort_id}.csv\"\n",
    "cohort[\"PATNO\"].to_csv(filename, index=False)\n",
    "print(f\"Cohort patient ids saved in {filename}. Do not share this file publicly!\")"
   ]
  },
  {
   "cell_type": "markdown",
   "id": "d488b6a6",
   "metadata": {},
   "source": [
    "The following concommittant medication have been found in the cohort. Make sure that they don't violate the following exclusion criteria from the original paper:\n",
    "\n",
    "No current treatment with medications known to modify REM sleep architecture and muscle tone such as serotonin reuptake inhibitors."
   ]
  },
  {
   "cell_type": "code",
   "execution_count": null,
   "id": "6b0c267d",
   "metadata": {},
   "outputs": [],
   "source": [
    "cohort.groupby(\"CMTRT\").count()[[\"PATNO\"]]"
   ]
  },
  {
   "cell_type": "markdown",
   "id": "3ab4ef3e",
   "metadata": {},
   "source": [
    "## Paper replication"
   ]
  },
  {
   "cell_type": "markdown",
   "id": "029e0c0d",
   "metadata": {},
   "source": [
    "Having our cohort is ready, we will now proceed to reproduce the MRI-based results of the paper."
   ]
  },
  {
   "cell_type": "markdown",
   "id": "88917c17",
   "metadata": {},
   "source": [
    "## Image Processing"
   ]
  },
  {
   "cell_type": "markdown",
   "id": "5144c920",
   "metadata": {},
   "source": [
    "The authors conducted cortical reconstruction and volumetric segmentation on the MRI data using the Freesurfer 5.3 image analysis software, following standard procedures.\n",
    "\n",
    "The initial processing of T1 MRI images for each subject at each time point (baseline and follow-up) involves the following steps: \n",
    "* removal of non-brain tissue\n",
    "* Talairach transformation\n",
    "* segmentation of subcortical white matter and deep grey matter volumetric structures\n",
    "* intensity normalization\n",
    "* cortical reconstruction\n",
    "\n",
    "Since there is already PPMI image processed with Freesurfer 6.0.1 on the BIC server, we will start the volumetric analysis of subcortical structures from there.\n",
    "\n",
    "```This processing includes removal of\n",
    "nonbrain tissue, Talairach transformation, segmentation of\n",
    "the subcortical white matter and deep gray matter volumetric structures, intensity normalization, and cortical\n",
    "reconstruction.19,20 Cortical thickness and volume maps\n",
    "were smoothed using a 15-mm full-width at half-maximum\n",
    "gaussian smoothing kernel and cortical surface area maps\n",
    "with a 20-mm smoothing kernel. Different smoothing filter\n",
    "sizes were used to increase the sensitivity for each structural\n",
    "metric, because a filter that is optimal for one metric may not\n",
    "be applicable to another.2```"
   ]
  },
  {
   "cell_type": "code",
   "execution_count": null,
   "id": "d5e8b693",
   "metadata": {},
   "outputs": [],
   "source": []
  },
  {
   "cell_type": "code",
   "execution_count": null,
   "id": "cc8702ac",
   "metadata": {},
   "outputs": [],
   "source": []
  }
 ],
 "metadata": {
  "kernelspec": {
   "display_name": "Python 3 (ipykernel)",
   "language": "python",
   "name": "python3"
  },
  "language_info": {
   "codemirror_mode": {
    "name": "ipython",
    "version": 3
   },
   "file_extension": ".py",
   "mimetype": "text/x-python",
   "name": "python",
   "nbconvert_exporter": "python",
   "pygments_lexer": "ipython3",
   "version": "3.10.9"
  }
 },
 "nbformat": 4,
 "nbformat_minor": 5
}
